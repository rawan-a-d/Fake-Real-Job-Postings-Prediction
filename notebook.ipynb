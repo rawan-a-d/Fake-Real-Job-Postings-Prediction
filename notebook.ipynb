{
 "cells": [
  {
   "cell_type": "markdown",
   "id": "234a067a",
   "metadata": {},
   "source": [
    "<h1 style=\"font-size:3rem;color:indianred;\"> Predicting fraudulent job postings using Machine Learning</h1>\n",
    "\n",
    "This notebook looks into using various Python-based machine learning and data science libraries in an attempt to build a machine learning model capable of predicting whether or not a job posting is fake based on the given attributes.\n",
    "\n",
    "We're going to take the following approach:\n",
    "1. Problem definition\n",
    "2. Data\n",
    "3. Evaluation\n",
    "4. Features\n",
    "5. Modelling\n",
    "6. Expermentation"
   ]
  },
  {
   "cell_type": "markdown",
   "id": "302110ef",
   "metadata": {},
   "source": [
    "<h2><font color=steelblue> 1. Problem Definition </font></h2>\n",
    "\n",
    "In a statement,\n",
    "> Given a job posting data, can we predict whether or not it is fake?"
   ]
  },
  {
   "cell_type": "markdown",
   "id": "baed1dc3",
   "metadata": {},
   "source": [
    "<h2><font color=steelblue> 2. Data </font></h2>\n",
    "\n",
    "The data is available on\n",
    "[Kaggle](https://www.kaggle.com/datasets/shivamb/real-or-fake-fake-jobposting-prediction?select=fake_job_postings.csv)"
   ]
  },
  {
   "cell_type": "markdown",
   "id": "53ad4d15",
   "metadata": {},
   "source": [
    "<h2><font color=steelblue> 3. Evaluation </font></h2>\n",
    "\n",
    "> Reach 90% accuracy at predicting whether or not a job posting is fake during the proof of concept."
   ]
  },
  {
   "cell_type": "markdown",
   "id": "da7d29a7",
   "metadata": {},
   "source": [
    "<h2><font color=steelblue> 4. Features </font></h2>\n",
    "\n",
    "This is where you'll get different information about each of the features in your data.\n",
    "\n",
    "* job_id: unique job id\n",
    "* title: the title of the job ad entry\n",
    "* location: geographical location of the job ad\n",
    "* department: Corporate department (e.g. sales)\n",
    "* salary_range: indicative salary range (e.g. $50,000-$60,000)\n",
    "* company_profile: a brief company description\n",
    "* description: The details description of the job ad\n",
    "* requirements: enlisted requirements for the job opening\n",
    "* benefits: enlisted offered benefits by the employer\n",
    "* telecommuting: True for telecommuting positions\n",
    "* has_company_logo: True if company logo is present\n",
    "* has_questions: True if screening questions are present\n",
    "* employment_type: Full-type, Part-time, Contract, etc\n",
    "* required_experience: Executive, Entry level, Intern, etc\n",
    "* required_education: Doctorate, Master’s Degree, Bachelor, etc\n",
    "* industry: Automotive, IT, Health care, Real estate, etc\n",
    "* function: Consulting, Engineering, Research, Sales etc\n",
    "* **fraudulent:** target - Classification attribute"
   ]
  },
  {
   "cell_type": "markdown",
   "id": "462d852e",
   "metadata": {},
   "source": [
    "<h3><font color=slateblue>  Create dictionary for the features</font></h3>"
   ]
  },
  {
   "cell_type": "code",
   "execution_count": 1,
   "id": "ab44548b",
   "metadata": {},
   "outputs": [],
   "source": [
    "features = {\n",
    "    \"job_id\": \"unique job id\",\n",
    "    \"title\": \"the title of the job ad entry\",\n",
    "    \"location\": \"geographical location of the job ad\",\n",
    "    \"department\": \"Corporate department (e.g. sales)\",\n",
    "    \"salary_range\": \"indicative salary range (e.g. $50,000-$60,000)\",\n",
    "    \"company_profile\": \"a brief company description\",\n",
    "    \"description\": \"The details description of the job ad\",\n",
    "    \"requirements\": \"enlisted requirements for the job opening\",\n",
    "    \"benefits\": \"enlisted offered benefits by the employer\",\n",
    "    \"telecommuting\": \"True for telecommuting positions\",\n",
    "    \"has_company_logo\": \"True if company logo is present\",\n",
    "    \"has_questions\": \"True if screening questions are present\",\n",
    "    \"employment_type\": \"Full-type, Part-time, Contract, etc\",\n",
    "    \"required_experience\": \"Executive, Entry level, Intern, etc\",\n",
    "    \"required_education\": \"Doctorate, Master’s Degree, Bachelor, etc\",\n",
    "    \"industry\": \"Automotive, IT, Health care, Real estate, etc\",\n",
    "    \"function\": \"Consulting, Engineering, Research, Sales etc\",\n",
    "    \"fraudulent\": \"target - Classification attribute\"\n",
    "}"
   ]
  },
  {
   "cell_type": "markdown",
   "id": "4b398e49",
   "metadata": {},
   "source": [
    "<h2><font color=steelblue>Preparing the tools </font></h2>\n",
    "\n",
    "We're going to use pandas, matplotlib, NumPy and Seaborn for data analysis and manipulation."
   ]
  },
  {
   "cell_type": "code",
   "execution_count": 2,
   "id": "b4322bb0",
   "metadata": {},
   "outputs": [],
   "source": [
    "# Regular EDA (exploratory data analysis) and plotting libraries\n",
    "import numpy as np\n",
    "import pandas as pd\n",
    "import matplotlib.pyplot as plt\n",
    "import seaborn as sns\n",
    "\n",
    "# we want our plots to appear inside the notebook\n",
    "%matplotlib inline\n",
    "\n",
    "# Turn the categories into numbers\n",
    "from sklearn.preprocessing import OneHotEncoder\n",
    "from sklearn.compose import ColumnTransformer"
   ]
  },
  {
   "cell_type": "markdown",
   "id": "84b4923e",
   "metadata": {},
   "source": [
    "<h2><font color=steelblue> Load data </font></h2>"
   ]
  },
  {
   "cell_type": "markdown",
   "id": "aaedd801",
   "metadata": {},
   "source": [
    "<h3><font color=slateblue> Read CSV file </font></h3>"
   ]
  },
  {
   "cell_type": "code",
   "execution_count": 3,
   "id": "15b46826",
   "metadata": {},
   "outputs": [],
   "source": [
    "df = pd.read_csv(\"data/fake_job_postings.csv\")"
   ]
  },
  {
   "cell_type": "markdown",
   "id": "539e9ea8",
   "metadata": {},
   "source": [
    "<h3><font color=slateblue> Get a sample of the data </font></h3>"
   ]
  },
  {
   "cell_type": "code",
   "execution_count": 4,
   "id": "219357c5",
   "metadata": {
    "scrolled": false
   },
   "outputs": [
    {
     "data": {
      "text/html": [
       "<div>\n",
       "<style scoped>\n",
       "    .dataframe tbody tr th:only-of-type {\n",
       "        vertical-align: middle;\n",
       "    }\n",
       "\n",
       "    .dataframe tbody tr th {\n",
       "        vertical-align: top;\n",
       "    }\n",
       "\n",
       "    .dataframe thead th {\n",
       "        text-align: right;\n",
       "    }\n",
       "</style>\n",
       "<table border=\"1\" class=\"dataframe\">\n",
       "  <thead>\n",
       "    <tr style=\"text-align: right;\">\n",
       "      <th></th>\n",
       "      <th>job_id</th>\n",
       "      <th>title</th>\n",
       "      <th>location</th>\n",
       "      <th>department</th>\n",
       "      <th>salary_range</th>\n",
       "      <th>company_profile</th>\n",
       "      <th>description</th>\n",
       "      <th>requirements</th>\n",
       "      <th>benefits</th>\n",
       "      <th>telecommuting</th>\n",
       "      <th>has_company_logo</th>\n",
       "      <th>has_questions</th>\n",
       "      <th>employment_type</th>\n",
       "      <th>required_experience</th>\n",
       "      <th>required_education</th>\n",
       "      <th>industry</th>\n",
       "      <th>function</th>\n",
       "      <th>fraudulent</th>\n",
       "    </tr>\n",
       "  </thead>\n",
       "  <tbody>\n",
       "    <tr>\n",
       "      <th>16922</th>\n",
       "      <td>16923</td>\n",
       "      <td>Entry Level CSR Wanted $22.50/HR PLUS Commissions</td>\n",
       "      <td>US, KY, Louisville</td>\n",
       "      <td>NaN</td>\n",
       "      <td>45-85</td>\n",
       "      <td>LEI Home Enhancements, is an Ohio based compan...</td>\n",
       "      <td>Essential Duties and Responsibilities include ...</td>\n",
       "      <td>Requirements / Qualifications: - Strong organi...</td>\n",
       "      <td>We offer:-Approx $22.50 an hour plus commissio...</td>\n",
       "      <td>0</td>\n",
       "      <td>1</td>\n",
       "      <td>0</td>\n",
       "      <td>Full-time</td>\n",
       "      <td>Entry level</td>\n",
       "      <td>High School or equivalent</td>\n",
       "      <td>Consumer Services</td>\n",
       "      <td>Customer Service</td>\n",
       "      <td>0</td>\n",
       "    </tr>\n",
       "    <tr>\n",
       "      <th>1069</th>\n",
       "      <td>1070</td>\n",
       "      <td>Operations Manager</td>\n",
       "      <td>US, CA, Los Angeles</td>\n",
       "      <td>NaN</td>\n",
       "      <td>40000-50000</td>\n",
       "      <td>GPL Technologies is a solutions provider focus...</td>\n",
       "      <td>GPL Technologies is a data infrastructure comp...</td>\n",
       "      <td>To be a successful candidate, detailed task ma...</td>\n",
       "      <td>Medical benefits</td>\n",
       "      <td>0</td>\n",
       "      <td>1</td>\n",
       "      <td>0</td>\n",
       "      <td>Full-time</td>\n",
       "      <td>Entry level</td>\n",
       "      <td>High School or equivalent</td>\n",
       "      <td>Information Technology and Services</td>\n",
       "      <td>Administrative</td>\n",
       "      <td>0</td>\n",
       "    </tr>\n",
       "    <tr>\n",
       "      <th>982</th>\n",
       "      <td>983</td>\n",
       "      <td>Lead Community &amp; Marketing Coordinator</td>\n",
       "      <td>US, DC, Washington</td>\n",
       "      <td>NaN</td>\n",
       "      <td>NaN</td>\n",
       "      <td>Meet cove, a network of neighborhood productiv...</td>\n",
       "      <td>cove, a technology oriented startup business, ...</td>\n",
       "      <td>Required- Bachelor's degree or equivalent expe...</td>\n",
       "      <td>NaN</td>\n",
       "      <td>0</td>\n",
       "      <td>1</td>\n",
       "      <td>1</td>\n",
       "      <td>Full-time</td>\n",
       "      <td>Associate</td>\n",
       "      <td>Bachelor's Degree</td>\n",
       "      <td>Consumer Services</td>\n",
       "      <td>Marketing</td>\n",
       "      <td>0</td>\n",
       "    </tr>\n",
       "    <tr>\n",
       "      <th>14591</th>\n",
       "      <td>14592</td>\n",
       "      <td>UI Designer</td>\n",
       "      <td>EG, C, Maadi</td>\n",
       "      <td>Development</td>\n",
       "      <td>NaN</td>\n",
       "      <td>EME International is a global leader in enterp...</td>\n",
       "      <td>We are looking for a talented UI Designer to c...</td>\n",
       "      <td>2+ years of UI experienceDemonstrable UI desig...</td>\n",
       "      <td>Challenging work environmentMedical Insurance ...</td>\n",
       "      <td>0</td>\n",
       "      <td>1</td>\n",
       "      <td>0</td>\n",
       "      <td>Full-time</td>\n",
       "      <td>Associate</td>\n",
       "      <td>Bachelor's Degree</td>\n",
       "      <td>Telecommunications</td>\n",
       "      <td>Information Technology</td>\n",
       "      <td>0</td>\n",
       "    </tr>\n",
       "    <tr>\n",
       "      <th>1480</th>\n",
       "      <td>1481</td>\n",
       "      <td>Senior Software Engineers, C++</td>\n",
       "      <td>GR, I, Marousi</td>\n",
       "      <td>NaN</td>\n",
       "      <td>NaN</td>\n",
       "      <td>Software Competitiveness International (SOFTCO...</td>\n",
       "      <td>Software Competitiveness International (SOFT C...</td>\n",
       "      <td>NaN</td>\n",
       "      <td>NaN</td>\n",
       "      <td>0</td>\n",
       "      <td>1</td>\n",
       "      <td>0</td>\n",
       "      <td>Full-time</td>\n",
       "      <td>NaN</td>\n",
       "      <td>NaN</td>\n",
       "      <td>Automotive</td>\n",
       "      <td>NaN</td>\n",
       "      <td>0</td>\n",
       "    </tr>\n",
       "  </tbody>\n",
       "</table>\n",
       "</div>"
      ],
      "text/plain": [
       "       job_id                                              title  \\\n",
       "16922   16923  Entry Level CSR Wanted $22.50/HR PLUS Commissions   \n",
       "1069     1070                                 Operations Manager   \n",
       "982       983             Lead Community & Marketing Coordinator   \n",
       "14591   14592                                       UI Designer    \n",
       "1480     1481                    Senior Software Engineers, C++    \n",
       "\n",
       "                  location   department salary_range  \\\n",
       "16922   US, KY, Louisville          NaN        45-85   \n",
       "1069   US, CA, Los Angeles          NaN  40000-50000   \n",
       "982     US, DC, Washington          NaN          NaN   \n",
       "14591         EG, C, Maadi  Development          NaN   \n",
       "1480        GR, I, Marousi          NaN          NaN   \n",
       "\n",
       "                                         company_profile  \\\n",
       "16922  LEI Home Enhancements, is an Ohio based compan...   \n",
       "1069   GPL Technologies is a solutions provider focus...   \n",
       "982    Meet cove, a network of neighborhood productiv...   \n",
       "14591  EME International is a global leader in enterp...   \n",
       "1480   Software Competitiveness International (SOFTCO...   \n",
       "\n",
       "                                             description  \\\n",
       "16922  Essential Duties and Responsibilities include ...   \n",
       "1069   GPL Technologies is a data infrastructure comp...   \n",
       "982    cove, a technology oriented startup business, ...   \n",
       "14591  We are looking for a talented UI Designer to c...   \n",
       "1480   Software Competitiveness International (SOFT C...   \n",
       "\n",
       "                                            requirements  \\\n",
       "16922  Requirements / Qualifications: - Strong organi...   \n",
       "1069   To be a successful candidate, detailed task ma...   \n",
       "982    Required- Bachelor's degree or equivalent expe...   \n",
       "14591  2+ years of UI experienceDemonstrable UI desig...   \n",
       "1480                                                 NaN   \n",
       "\n",
       "                                                benefits  telecommuting  \\\n",
       "16922  We offer:-Approx $22.50 an hour plus commissio...              0   \n",
       "1069                                    Medical benefits              0   \n",
       "982                                                  NaN              0   \n",
       "14591  Challenging work environmentMedical Insurance ...              0   \n",
       "1480                                                 NaN              0   \n",
       "\n",
       "       has_company_logo  has_questions employment_type required_experience  \\\n",
       "16922                 1              0       Full-time         Entry level   \n",
       "1069                  1              0       Full-time         Entry level   \n",
       "982                   1              1       Full-time           Associate   \n",
       "14591                 1              0       Full-time           Associate   \n",
       "1480                  1              0       Full-time                 NaN   \n",
       "\n",
       "              required_education                             industry  \\\n",
       "16922  High School or equivalent                    Consumer Services   \n",
       "1069   High School or equivalent  Information Technology and Services   \n",
       "982            Bachelor's Degree                    Consumer Services   \n",
       "14591          Bachelor's Degree                   Telecommunications   \n",
       "1480                         NaN                           Automotive   \n",
       "\n",
       "                     function  fraudulent  \n",
       "16922        Customer Service           0  \n",
       "1069           Administrative           0  \n",
       "982                 Marketing           0  \n",
       "14591  Information Technology           0  \n",
       "1480                      NaN           0  "
      ]
     },
     "execution_count": 4,
     "metadata": {},
     "output_type": "execute_result"
    }
   ],
   "source": [
    "df.sample(5)"
   ]
  },
  {
   "cell_type": "markdown",
   "id": "672578e6",
   "metadata": {},
   "source": [
    "<h3><font color=slateblue> Get numer of rows and columns </font></h3>"
   ]
  },
  {
   "cell_type": "code",
   "execution_count": 5,
   "id": "26584035",
   "metadata": {},
   "outputs": [
    {
     "data": {
      "text/plain": [
       "(17880, 18)"
      ]
     },
     "execution_count": 5,
     "metadata": {},
     "output_type": "execute_result"
    }
   ],
   "source": [
    "df.shape"
   ]
  },
  {
   "cell_type": "markdown",
   "id": "fdf41bc3",
   "metadata": {},
   "source": [
    "<h2><font color=steelblue> Data Exploration (exploratory data analysis or EDA)</font></h2>"
   ]
  },
  {
   "cell_type": "markdown",
   "id": "c832f11a",
   "metadata": {},
   "source": [
    "<h3><font color=slateblue> Get first 5 rows </font></h3>"
   ]
  },
  {
   "cell_type": "code",
   "execution_count": 6,
   "id": "58499497",
   "metadata": {},
   "outputs": [
    {
     "data": {
      "text/html": [
       "<div>\n",
       "<style scoped>\n",
       "    .dataframe tbody tr th:only-of-type {\n",
       "        vertical-align: middle;\n",
       "    }\n",
       "\n",
       "    .dataframe tbody tr th {\n",
       "        vertical-align: top;\n",
       "    }\n",
       "\n",
       "    .dataframe thead th {\n",
       "        text-align: right;\n",
       "    }\n",
       "</style>\n",
       "<table border=\"1\" class=\"dataframe\">\n",
       "  <thead>\n",
       "    <tr style=\"text-align: right;\">\n",
       "      <th></th>\n",
       "      <th>job_id</th>\n",
       "      <th>title</th>\n",
       "      <th>location</th>\n",
       "      <th>department</th>\n",
       "      <th>salary_range</th>\n",
       "      <th>company_profile</th>\n",
       "      <th>description</th>\n",
       "      <th>requirements</th>\n",
       "      <th>benefits</th>\n",
       "      <th>telecommuting</th>\n",
       "      <th>has_company_logo</th>\n",
       "      <th>has_questions</th>\n",
       "      <th>employment_type</th>\n",
       "      <th>required_experience</th>\n",
       "      <th>required_education</th>\n",
       "      <th>industry</th>\n",
       "      <th>function</th>\n",
       "      <th>fraudulent</th>\n",
       "    </tr>\n",
       "  </thead>\n",
       "  <tbody>\n",
       "    <tr>\n",
       "      <th>0</th>\n",
       "      <td>1</td>\n",
       "      <td>Marketing Intern</td>\n",
       "      <td>US, NY, New York</td>\n",
       "      <td>Marketing</td>\n",
       "      <td>NaN</td>\n",
       "      <td>We're Food52, and we've created a groundbreaki...</td>\n",
       "      <td>Food52, a fast-growing, James Beard Award-winn...</td>\n",
       "      <td>Experience with content management systems a m...</td>\n",
       "      <td>NaN</td>\n",
       "      <td>0</td>\n",
       "      <td>1</td>\n",
       "      <td>0</td>\n",
       "      <td>Other</td>\n",
       "      <td>Internship</td>\n",
       "      <td>NaN</td>\n",
       "      <td>NaN</td>\n",
       "      <td>Marketing</td>\n",
       "      <td>0</td>\n",
       "    </tr>\n",
       "    <tr>\n",
       "      <th>1</th>\n",
       "      <td>2</td>\n",
       "      <td>Customer Service - Cloud Video Production</td>\n",
       "      <td>NZ, , Auckland</td>\n",
       "      <td>Success</td>\n",
       "      <td>NaN</td>\n",
       "      <td>90 Seconds, the worlds Cloud Video Production ...</td>\n",
       "      <td>Organised - Focused - Vibrant - Awesome!Do you...</td>\n",
       "      <td>What we expect from you:Your key responsibilit...</td>\n",
       "      <td>What you will get from usThrough being part of...</td>\n",
       "      <td>0</td>\n",
       "      <td>1</td>\n",
       "      <td>0</td>\n",
       "      <td>Full-time</td>\n",
       "      <td>Not Applicable</td>\n",
       "      <td>NaN</td>\n",
       "      <td>Marketing and Advertising</td>\n",
       "      <td>Customer Service</td>\n",
       "      <td>0</td>\n",
       "    </tr>\n",
       "    <tr>\n",
       "      <th>2</th>\n",
       "      <td>3</td>\n",
       "      <td>Commissioning Machinery Assistant (CMA)</td>\n",
       "      <td>US, IA, Wever</td>\n",
       "      <td>NaN</td>\n",
       "      <td>NaN</td>\n",
       "      <td>Valor Services provides Workforce Solutions th...</td>\n",
       "      <td>Our client, located in Houston, is actively se...</td>\n",
       "      <td>Implement pre-commissioning and commissioning ...</td>\n",
       "      <td>NaN</td>\n",
       "      <td>0</td>\n",
       "      <td>1</td>\n",
       "      <td>0</td>\n",
       "      <td>NaN</td>\n",
       "      <td>NaN</td>\n",
       "      <td>NaN</td>\n",
       "      <td>NaN</td>\n",
       "      <td>NaN</td>\n",
       "      <td>0</td>\n",
       "    </tr>\n",
       "    <tr>\n",
       "      <th>3</th>\n",
       "      <td>4</td>\n",
       "      <td>Account Executive - Washington DC</td>\n",
       "      <td>US, DC, Washington</td>\n",
       "      <td>Sales</td>\n",
       "      <td>NaN</td>\n",
       "      <td>Our passion for improving quality of life thro...</td>\n",
       "      <td>THE COMPANY: ESRI – Environmental Systems Rese...</td>\n",
       "      <td>EDUCATION: Bachelor’s or Master’s in GIS, busi...</td>\n",
       "      <td>Our culture is anything but corporate—we have ...</td>\n",
       "      <td>0</td>\n",
       "      <td>1</td>\n",
       "      <td>0</td>\n",
       "      <td>Full-time</td>\n",
       "      <td>Mid-Senior level</td>\n",
       "      <td>Bachelor's Degree</td>\n",
       "      <td>Computer Software</td>\n",
       "      <td>Sales</td>\n",
       "      <td>0</td>\n",
       "    </tr>\n",
       "    <tr>\n",
       "      <th>4</th>\n",
       "      <td>5</td>\n",
       "      <td>Bill Review Manager</td>\n",
       "      <td>US, FL, Fort Worth</td>\n",
       "      <td>NaN</td>\n",
       "      <td>NaN</td>\n",
       "      <td>SpotSource Solutions LLC is a Global Human Cap...</td>\n",
       "      <td>JOB TITLE: Itemization Review ManagerLOCATION:...</td>\n",
       "      <td>QUALIFICATIONS:RN license in the State of Texa...</td>\n",
       "      <td>Full Benefits Offered</td>\n",
       "      <td>0</td>\n",
       "      <td>1</td>\n",
       "      <td>1</td>\n",
       "      <td>Full-time</td>\n",
       "      <td>Mid-Senior level</td>\n",
       "      <td>Bachelor's Degree</td>\n",
       "      <td>Hospital &amp; Health Care</td>\n",
       "      <td>Health Care Provider</td>\n",
       "      <td>0</td>\n",
       "    </tr>\n",
       "  </tbody>\n",
       "</table>\n",
       "</div>"
      ],
      "text/plain": [
       "   job_id                                      title            location  \\\n",
       "0       1                           Marketing Intern    US, NY, New York   \n",
       "1       2  Customer Service - Cloud Video Production      NZ, , Auckland   \n",
       "2       3    Commissioning Machinery Assistant (CMA)       US, IA, Wever   \n",
       "3       4          Account Executive - Washington DC  US, DC, Washington   \n",
       "4       5                        Bill Review Manager  US, FL, Fort Worth   \n",
       "\n",
       "  department salary_range                                    company_profile  \\\n",
       "0  Marketing          NaN  We're Food52, and we've created a groundbreaki...   \n",
       "1    Success          NaN  90 Seconds, the worlds Cloud Video Production ...   \n",
       "2        NaN          NaN  Valor Services provides Workforce Solutions th...   \n",
       "3      Sales          NaN  Our passion for improving quality of life thro...   \n",
       "4        NaN          NaN  SpotSource Solutions LLC is a Global Human Cap...   \n",
       "\n",
       "                                         description  \\\n",
       "0  Food52, a fast-growing, James Beard Award-winn...   \n",
       "1  Organised - Focused - Vibrant - Awesome!Do you...   \n",
       "2  Our client, located in Houston, is actively se...   \n",
       "3  THE COMPANY: ESRI – Environmental Systems Rese...   \n",
       "4  JOB TITLE: Itemization Review ManagerLOCATION:...   \n",
       "\n",
       "                                        requirements  \\\n",
       "0  Experience with content management systems a m...   \n",
       "1  What we expect from you:Your key responsibilit...   \n",
       "2  Implement pre-commissioning and commissioning ...   \n",
       "3  EDUCATION: Bachelor’s or Master’s in GIS, busi...   \n",
       "4  QUALIFICATIONS:RN license in the State of Texa...   \n",
       "\n",
       "                                            benefits  telecommuting  \\\n",
       "0                                                NaN              0   \n",
       "1  What you will get from usThrough being part of...              0   \n",
       "2                                                NaN              0   \n",
       "3  Our culture is anything but corporate—we have ...              0   \n",
       "4                              Full Benefits Offered              0   \n",
       "\n",
       "   has_company_logo  has_questions employment_type required_experience  \\\n",
       "0                 1              0           Other          Internship   \n",
       "1                 1              0       Full-time      Not Applicable   \n",
       "2                 1              0             NaN                 NaN   \n",
       "3                 1              0       Full-time    Mid-Senior level   \n",
       "4                 1              1       Full-time    Mid-Senior level   \n",
       "\n",
       "  required_education                   industry              function  \\\n",
       "0                NaN                        NaN             Marketing   \n",
       "1                NaN  Marketing and Advertising      Customer Service   \n",
       "2                NaN                        NaN                   NaN   \n",
       "3  Bachelor's Degree          Computer Software                 Sales   \n",
       "4  Bachelor's Degree     Hospital & Health Care  Health Care Provider   \n",
       "\n",
       "   fraudulent  \n",
       "0           0  \n",
       "1           0  \n",
       "2           0  \n",
       "3           0  \n",
       "4           0  "
      ]
     },
     "execution_count": 6,
     "metadata": {},
     "output_type": "execute_result"
    }
   ],
   "source": [
    "df.head()"
   ]
  },
  {
   "cell_type": "markdown",
   "id": "d7deeea5",
   "metadata": {},
   "source": [
    "<h3><font color=slateblue> Get last 5 rows </font></h3>"
   ]
  },
  {
   "cell_type": "code",
   "execution_count": 7,
   "id": "3b7ac36f",
   "metadata": {},
   "outputs": [
    {
     "data": {
      "text/html": [
       "<div>\n",
       "<style scoped>\n",
       "    .dataframe tbody tr th:only-of-type {\n",
       "        vertical-align: middle;\n",
       "    }\n",
       "\n",
       "    .dataframe tbody tr th {\n",
       "        vertical-align: top;\n",
       "    }\n",
       "\n",
       "    .dataframe thead th {\n",
       "        text-align: right;\n",
       "    }\n",
       "</style>\n",
       "<table border=\"1\" class=\"dataframe\">\n",
       "  <thead>\n",
       "    <tr style=\"text-align: right;\">\n",
       "      <th></th>\n",
       "      <th>job_id</th>\n",
       "      <th>title</th>\n",
       "      <th>location</th>\n",
       "      <th>department</th>\n",
       "      <th>salary_range</th>\n",
       "      <th>company_profile</th>\n",
       "      <th>description</th>\n",
       "      <th>requirements</th>\n",
       "      <th>benefits</th>\n",
       "      <th>telecommuting</th>\n",
       "      <th>has_company_logo</th>\n",
       "      <th>has_questions</th>\n",
       "      <th>employment_type</th>\n",
       "      <th>required_experience</th>\n",
       "      <th>required_education</th>\n",
       "      <th>industry</th>\n",
       "      <th>function</th>\n",
       "      <th>fraudulent</th>\n",
       "    </tr>\n",
       "  </thead>\n",
       "  <tbody>\n",
       "    <tr>\n",
       "      <th>17875</th>\n",
       "      <td>17876</td>\n",
       "      <td>Account Director - Distribution</td>\n",
       "      <td>CA, ON, Toronto</td>\n",
       "      <td>Sales</td>\n",
       "      <td>NaN</td>\n",
       "      <td>Vend is looking for some awesome new talent to...</td>\n",
       "      <td>Just in case this is the first time you’ve vis...</td>\n",
       "      <td>To ace this role you:Will eat comprehensive St...</td>\n",
       "      <td>What can you expect from us?We have an open cu...</td>\n",
       "      <td>0</td>\n",
       "      <td>1</td>\n",
       "      <td>1</td>\n",
       "      <td>Full-time</td>\n",
       "      <td>Mid-Senior level</td>\n",
       "      <td>NaN</td>\n",
       "      <td>Computer Software</td>\n",
       "      <td>Sales</td>\n",
       "      <td>0</td>\n",
       "    </tr>\n",
       "    <tr>\n",
       "      <th>17876</th>\n",
       "      <td>17877</td>\n",
       "      <td>Payroll Accountant</td>\n",
       "      <td>US, PA, Philadelphia</td>\n",
       "      <td>Accounting</td>\n",
       "      <td>NaN</td>\n",
       "      <td>WebLinc is the e-commerce platform and service...</td>\n",
       "      <td>The Payroll Accountant will focus primarily on...</td>\n",
       "      <td>- B.A. or B.S. in Accounting- Desire to have f...</td>\n",
       "      <td>Health &amp;amp; WellnessMedical planPrescription ...</td>\n",
       "      <td>0</td>\n",
       "      <td>1</td>\n",
       "      <td>1</td>\n",
       "      <td>Full-time</td>\n",
       "      <td>Mid-Senior level</td>\n",
       "      <td>Bachelor's Degree</td>\n",
       "      <td>Internet</td>\n",
       "      <td>Accounting/Auditing</td>\n",
       "      <td>0</td>\n",
       "    </tr>\n",
       "    <tr>\n",
       "      <th>17877</th>\n",
       "      <td>17878</td>\n",
       "      <td>Project Cost Control Staff Engineer - Cost Con...</td>\n",
       "      <td>US, TX, Houston</td>\n",
       "      <td>NaN</td>\n",
       "      <td>NaN</td>\n",
       "      <td>We Provide Full Time Permanent Positions for m...</td>\n",
       "      <td>Experienced Project Cost Control Staff Enginee...</td>\n",
       "      <td>At least 12 years professional experience.Abil...</td>\n",
       "      <td>NaN</td>\n",
       "      <td>0</td>\n",
       "      <td>0</td>\n",
       "      <td>0</td>\n",
       "      <td>Full-time</td>\n",
       "      <td>NaN</td>\n",
       "      <td>NaN</td>\n",
       "      <td>NaN</td>\n",
       "      <td>NaN</td>\n",
       "      <td>0</td>\n",
       "    </tr>\n",
       "    <tr>\n",
       "      <th>17878</th>\n",
       "      <td>17879</td>\n",
       "      <td>Graphic Designer</td>\n",
       "      <td>NG, LA, Lagos</td>\n",
       "      <td>NaN</td>\n",
       "      <td>NaN</td>\n",
       "      <td>NaN</td>\n",
       "      <td>Nemsia Studios is looking for an experienced v...</td>\n",
       "      <td>1. Must be fluent in the latest versions of Co...</td>\n",
       "      <td>Competitive salary (compensation will be based...</td>\n",
       "      <td>0</td>\n",
       "      <td>0</td>\n",
       "      <td>1</td>\n",
       "      <td>Contract</td>\n",
       "      <td>Not Applicable</td>\n",
       "      <td>Professional</td>\n",
       "      <td>Graphic Design</td>\n",
       "      <td>Design</td>\n",
       "      <td>0</td>\n",
       "    </tr>\n",
       "    <tr>\n",
       "      <th>17879</th>\n",
       "      <td>17880</td>\n",
       "      <td>Web Application Developers</td>\n",
       "      <td>NZ, N, Wellington</td>\n",
       "      <td>Engineering</td>\n",
       "      <td>NaN</td>\n",
       "      <td>Vend is looking for some awesome new talent to...</td>\n",
       "      <td>Who are we?Vend is an award winning web based ...</td>\n",
       "      <td>We want to hear from you if:You have an in-dep...</td>\n",
       "      <td>NaN</td>\n",
       "      <td>0</td>\n",
       "      <td>1</td>\n",
       "      <td>1</td>\n",
       "      <td>Full-time</td>\n",
       "      <td>Mid-Senior level</td>\n",
       "      <td>NaN</td>\n",
       "      <td>Computer Software</td>\n",
       "      <td>Engineering</td>\n",
       "      <td>0</td>\n",
       "    </tr>\n",
       "  </tbody>\n",
       "</table>\n",
       "</div>"
      ],
      "text/plain": [
       "       job_id                                              title  \\\n",
       "17875   17876                   Account Director - Distribution    \n",
       "17876   17877                                 Payroll Accountant   \n",
       "17877   17878  Project Cost Control Staff Engineer - Cost Con...   \n",
       "17878   17879                                   Graphic Designer   \n",
       "17879   17880                         Web Application Developers   \n",
       "\n",
       "                   location   department salary_range  \\\n",
       "17875       CA, ON, Toronto        Sales          NaN   \n",
       "17876  US, PA, Philadelphia   Accounting          NaN   \n",
       "17877       US, TX, Houston          NaN          NaN   \n",
       "17878         NG, LA, Lagos          NaN          NaN   \n",
       "17879     NZ, N, Wellington  Engineering          NaN   \n",
       "\n",
       "                                         company_profile  \\\n",
       "17875  Vend is looking for some awesome new talent to...   \n",
       "17876  WebLinc is the e-commerce platform and service...   \n",
       "17877  We Provide Full Time Permanent Positions for m...   \n",
       "17878                                                NaN   \n",
       "17879  Vend is looking for some awesome new talent to...   \n",
       "\n",
       "                                             description  \\\n",
       "17875  Just in case this is the first time you’ve vis...   \n",
       "17876  The Payroll Accountant will focus primarily on...   \n",
       "17877  Experienced Project Cost Control Staff Enginee...   \n",
       "17878  Nemsia Studios is looking for an experienced v...   \n",
       "17879  Who are we?Vend is an award winning web based ...   \n",
       "\n",
       "                                            requirements  \\\n",
       "17875  To ace this role you:Will eat comprehensive St...   \n",
       "17876  - B.A. or B.S. in Accounting- Desire to have f...   \n",
       "17877  At least 12 years professional experience.Abil...   \n",
       "17878  1. Must be fluent in the latest versions of Co...   \n",
       "17879  We want to hear from you if:You have an in-dep...   \n",
       "\n",
       "                                                benefits  telecommuting  \\\n",
       "17875  What can you expect from us?We have an open cu...              0   \n",
       "17876  Health &amp; WellnessMedical planPrescription ...              0   \n",
       "17877                                                NaN              0   \n",
       "17878  Competitive salary (compensation will be based...              0   \n",
       "17879                                                NaN              0   \n",
       "\n",
       "       has_company_logo  has_questions employment_type required_experience  \\\n",
       "17875                 1              1       Full-time    Mid-Senior level   \n",
       "17876                 1              1       Full-time    Mid-Senior level   \n",
       "17877                 0              0       Full-time                 NaN   \n",
       "17878                 0              1        Contract      Not Applicable   \n",
       "17879                 1              1       Full-time    Mid-Senior level   \n",
       "\n",
       "      required_education           industry             function  fraudulent  \n",
       "17875                NaN  Computer Software                Sales           0  \n",
       "17876  Bachelor's Degree           Internet  Accounting/Auditing           0  \n",
       "17877                NaN                NaN                  NaN           0  \n",
       "17878       Professional     Graphic Design               Design           0  \n",
       "17879                NaN  Computer Software          Engineering           0  "
      ]
     },
     "execution_count": 7,
     "metadata": {},
     "output_type": "execute_result"
    }
   ],
   "source": [
    "df.tail()"
   ]
  },
  {
   "cell_type": "markdown",
   "id": "6eaa7496",
   "metadata": {},
   "source": [
    "<h3><font color=slateblue> Get some info about each column (type, number of null values..)</font></h3>"
   ]
  },
  {
   "cell_type": "code",
   "execution_count": 8,
   "id": "40f05d2b",
   "metadata": {
    "scrolled": false
   },
   "outputs": [
    {
     "name": "stdout",
     "output_type": "stream",
     "text": [
      "<class 'pandas.core.frame.DataFrame'>\n",
      "RangeIndex: 17880 entries, 0 to 17879\n",
      "Data columns (total 18 columns):\n",
      " #   Column               Non-Null Count  Dtype \n",
      "---  ------               --------------  ----- \n",
      " 0   job_id               17880 non-null  int64 \n",
      " 1   title                17880 non-null  object\n",
      " 2   location             17534 non-null  object\n",
      " 3   department           6333 non-null   object\n",
      " 4   salary_range         2868 non-null   object\n",
      " 5   company_profile      14572 non-null  object\n",
      " 6   description          17879 non-null  object\n",
      " 7   requirements         15185 non-null  object\n",
      " 8   benefits             10670 non-null  object\n",
      " 9   telecommuting        17880 non-null  int64 \n",
      " 10  has_company_logo     17880 non-null  int64 \n",
      " 11  has_questions        17880 non-null  int64 \n",
      " 12  employment_type      14409 non-null  object\n",
      " 13  required_experience  10830 non-null  object\n",
      " 14  required_education   9775 non-null   object\n",
      " 15  industry             12977 non-null  object\n",
      " 16  function             11425 non-null  object\n",
      " 17  fraudulent           17880 non-null  int64 \n",
      "dtypes: int64(5), object(13)\n",
      "memory usage: 2.5+ MB\n"
     ]
    }
   ],
   "source": [
    "df.info()"
   ]
  },
  {
   "cell_type": "markdown",
   "id": "c15df3b8",
   "metadata": {},
   "source": [
    "<h3><font color=slateblue> Compare the two classes </font></h3>"
   ]
  },
  {
   "cell_type": "markdown",
   "id": "a6f06fae",
   "metadata": {},
   "source": [
    "<h4><font color=darkslategray>Number of fraudulent & non fraudulent job postings</font></h4>"
   ]
  },
  {
   "cell_type": "code",
   "execution_count": 9,
   "id": "ee034b6c",
   "metadata": {},
   "outputs": [
    {
     "data": {
      "text/plain": [
       "0    17014\n",
       "1      866\n",
       "Name: fraudulent, dtype: int64"
      ]
     },
     "execution_count": 9,
     "metadata": {},
     "output_type": "execute_result"
    }
   ],
   "source": [
    "# Let's find out how many of each class there are\n",
    "df[\"fraudulent\"].value_counts()"
   ]
  },
  {
   "cell_type": "markdown",
   "id": "a2c01ed5",
   "metadata": {},
   "source": [
    "<h4><font color=darkslategray>Visualize number of fraudulent & non fraudulent job postings in a bar chart</font></h4>"
   ]
  },
  {
   "cell_type": "code",
   "execution_count": 10,
   "id": "618ba9d8",
   "metadata": {
    "scrolled": false
   },
   "outputs": [
    {
     "data": {
      "image/png": "[encoded data removed]",
      "text/plain": [
       "<Figure size 640x480 with 1 Axes>"
      ]
     },
     "metadata": {},
     "output_type": "display_data"
    }
   ],
   "source": [
    "# Visualize the classes with Pandas plot method\n",
    "df[\"fraudulent\"].value_counts().plot(kind=\"bar\", color=[\"salmon\", \"lightblue\"], legend=True);"
   ]
  },
  {
   "cell_type": "markdown",
   "id": "c324511c",
   "metadata": {},
   "source": [
    "<h4><font color=darkslategray>Visualize number of fraudulent & non fraudulent job postings in a pie chart</font></h4>"
   ]
  },
  {
   "cell_type": "code",
   "execution_count": 11,
   "id": "082d8536",
   "metadata": {},
   "outputs": [
    {
     "data": {
      "image/png": "[encoded data removed]",
      "text/plain": [
       "<Figure size 640x480 with 1 Axes>"
      ]
     },
     "metadata": {},
     "output_type": "display_data"
    }
   ],
   "source": [
    "# Visualize the classes in a pie chart\n",
    "labels = ['Non Fraudulent', 'Fraudulent']\n",
    "sizes = df[\"fraudulent\"].value_counts()\n",
    "explode = (0, 0.1)  \n",
    "fig, ax = plt.subplots()\n",
    "ax.pie(sizes, explode=explode, labels=labels, autopct='%1.1f%%',\n",
    "        shadow=True, startangle=20)\n",
    "\n",
    "# Equal aspect ratio ensures that pie is drawn as a circle\n",
    "# ax.axis('equal')\n",
    "ax.legend().set_visible(True)\n",
    "\n",
    "ax.set(title=\"Fraudulent vs Non Fraudulent Job Postings\")\n",
    "plt.tight_layout()\n",
    "plt.show()"
   ]
  },
  {
   "cell_type": "code",
   "execution_count": 12,
   "id": "2e3e3506",
   "metadata": {},
   "outputs": [],
   "source": [
    "# kwargs = dict(\n",
    "#     startangle = 90,\n",
    "#     colormap   = 'Pastel2',\n",
    "#     fontsize   = 12,\n",
    "#     shadow     = True,\n",
    "#     explode    = (0.08, 0.08),\n",
    "#     figsize    = (60, 5),\n",
    "#     autopct    = '%1.1f%%',\n",
    "#     title      = 'Fraudulent vs non fraudulent job postings',\n",
    "#     ylabel     = '',\n",
    "#     legend     = True,\n",
    "#     labeldistance = None\n",
    "# )\n",
    "\n",
    "# ax = df['fraudulent'].value_counts().plot.pie(**kwargs);\n",
    "\n",
    "# ax.legend(bbox_to_anchor = (1, 1.02), loc='best')\n",
    "# ax"
   ]
  },
  {
   "cell_type": "markdown",
   "id": "8d22847b",
   "metadata": {},
   "source": [
    "As we can see, the classes are highly imbalanced."
   ]
  },
  {
   "cell_type": "markdown",
   "id": "4dd99e2e",
   "metadata": {},
   "source": [
    "<h3><font color=slateblue> Check mising values </font></h3>"
   ]
  },
  {
   "cell_type": "code",
   "execution_count": 13,
   "id": "7c1dd965",
   "metadata": {},
   "outputs": [
    {
     "data": {
      "text/plain": [
       "job_id                     0\n",
       "title                      0\n",
       "location                 346\n",
       "department             11547\n",
       "salary_range           15012\n",
       "company_profile         3308\n",
       "description                1\n",
       "requirements            2695\n",
       "benefits                7210\n",
       "telecommuting              0\n",
       "has_company_logo           0\n",
       "has_questions              0\n",
       "employment_type         3471\n",
       "required_experience     7050\n",
       "required_education      8105\n",
       "industry                4903\n",
       "function                6455\n",
       "fraudulent                 0\n",
       "dtype: int64"
      ]
     },
     "execution_count": 13,
     "metadata": {},
     "output_type": "execute_result"
    }
   ],
   "source": [
    "# Are there any missing values?\n",
    "df.isna().sum()"
   ]
  },
  {
   "cell_type": "markdown",
   "id": "aae02d20",
   "metadata": {},
   "source": [
    "<h3><font color=slateblue> Fraudulent job postings Frequency according to industry</font></h3>"
   ]
  },
  {
   "cell_type": "markdown",
   "id": "c58ee433",
   "metadata": {},
   "source": [
    "<h4><font color=darkslategray>Number of industries</font></h4>"
   ]
  },
  {
   "cell_type": "code",
   "execution_count": 14,
   "id": "26a72802",
   "metadata": {},
   "outputs": [
    {
     "data": {
      "text/plain": [
       "Information Technology and Services    1734\n",
       "Computer Software                      1376\n",
       "Internet                               1062\n",
       "Marketing and Advertising               828\n",
       "Education Management                    822\n",
       "                                       ... \n",
       "Shipbuilding                              1\n",
       "Sporting Goods                            1\n",
       "Museums and Institutions                  1\n",
       "Wine and Spirits                          1\n",
       "Ranching                                  1\n",
       "Name: industry, Length: 131, dtype: int64"
      ]
     },
     "execution_count": 14,
     "metadata": {},
     "output_type": "execute_result"
    }
   ],
   "source": [
    "# number of industries\n",
    "df.industry.value_counts()"
   ]
  },
  {
   "cell_type": "markdown",
   "id": "370cf487",
   "metadata": {},
   "source": [
    "<h4><font color=darkslategray>Categories of industry</font></h4>"
   ]
  },
  {
   "cell_type": "code",
   "execution_count": 15,
   "id": "507c2d2f",
   "metadata": {},
   "outputs": [
    {
     "data": {
      "text/plain": [
       "array([nan, 'Marketing and Advertising', 'Computer Software',\n",
       "       'Hospital & Health Care', 'Online Media',\n",
       "       'Information Technology and Services', 'Financial Services',\n",
       "       'Management Consulting', 'Events Services', 'Internet',\n",
       "       'Facilities Services', 'Consumer Electronics',\n",
       "       'Telecommunications', 'Consumer Services', 'Construction',\n",
       "       'Oil & Energy', 'Education Management', 'Building Materials',\n",
       "       'Banking', 'Food & Beverages', 'Food Production',\n",
       "       'Health, Wellness and Fitness', 'Insurance', 'E-Learning',\n",
       "       'Cosmetics', 'Staffing and Recruiting',\n",
       "       'Venture Capital & Private Equity', 'Leisure, Travel & Tourism',\n",
       "       'Human Resources', 'Pharmaceuticals', 'Farming', 'Legal Services',\n",
       "       'Luxury Goods & Jewelry', 'Machinery', 'Real Estate',\n",
       "       'Mechanical or Industrial Engineering',\n",
       "       'Public Relations and Communications', 'Consumer Goods',\n",
       "       'Medical Practice', 'Electrical/Electronic Manufacturing',\n",
       "       'Hospitality', 'Music', 'Market Research', 'Automotive',\n",
       "       'Philanthropy', 'Utilities', 'Primary/Secondary Education',\n",
       "       'Logistics and Supply Chain', 'Design', 'Gambling & Casinos',\n",
       "       'Accounting', 'Environmental Services', 'Mental Health Care',\n",
       "       'Investment Management', 'Apparel & Fashion', 'Media Production',\n",
       "       'Publishing', 'Medical Devices', 'Information Services', 'Retail',\n",
       "       'Sports', 'Computer Games', 'Chemicals', 'Aviation & Aerospace',\n",
       "       'Business Supplies and Equipment', 'Program Development',\n",
       "       'Computer Networking', 'Biotechnology',\n",
       "       'Civic & Social Organization', 'Religious Institutions',\n",
       "       'Warehousing', 'Airlines/Aviation', 'Writing and Editing',\n",
       "       'Restaurants', 'Outsourcing/Offshoring',\n",
       "       'Transportation/Trucking/Railroad', 'Wireless',\n",
       "       'Investment Banking', 'Nonprofit Organization Management',\n",
       "       'Libraries', 'Computer Hardware', 'Broadcast Media', 'Printing',\n",
       "       'Graphic Design', 'Entertainment', 'Wholesale', 'Research',\n",
       "       'Animation', 'Government Administration', 'Capital Markets',\n",
       "       'Computer & Network Security', 'Semiconductors',\n",
       "       'Security and Investigations', 'Architecture & Planning',\n",
       "       'Maritime', 'Fund-Raising', 'Higher Education',\n",
       "       'Renewables & Environment', 'Motion Pictures and Film',\n",
       "       'Law Practice', 'Government Relations', 'Packaging and Containers',\n",
       "       'Sporting Goods', 'Mining & Metals', 'Import and Export',\n",
       "       'International Trade and Development',\n",
       "       'Professional Training & Coaching', 'Textiles',\n",
       "       'Commercial Real Estate', 'Law Enforcement',\n",
       "       'Package/Freight Delivery', 'Translation and Localization',\n",
       "       'Photography', 'Industrial Automation', 'Wine and Spirits',\n",
       "       'Public Safety', 'Civil Engineering', 'Military',\n",
       "       'Defense & Space', 'Veterinary', 'Executive Office',\n",
       "       'Performing Arts', 'Individual & Family Services', 'Public Policy',\n",
       "       'Nanotechnology', 'Museums and Institutions', 'Fishery',\n",
       "       'Plastics', 'Furniture', 'Shipbuilding',\n",
       "       'Alternative Dispute Resolution', 'Ranching'], dtype=object)"
      ]
     },
     "execution_count": 15,
     "metadata": {},
     "output_type": "execute_result"
    }
   ],
   "source": [
    "# Categories of industry\n",
    "df[\"industry\"].unique()"
   ]
  },
  {
   "cell_type": "markdown",
   "id": "b6d88645",
   "metadata": {},
   "source": [
    "<h4><font color=darkslategray>Number of fake job postings per industry</font></h4>"
   ]
  },
  {
   "cell_type": "code",
   "execution_count": 16,
   "id": "39b98e37",
   "metadata": {},
   "outputs": [
    {
     "data": {
      "text/plain": [
       "Oil & Energy                   109\n",
       "Accounting                      57\n",
       "Hospital & Health Care          51\n",
       "Marketing and Advertising       45\n",
       "Financial Services              35\n",
       "                              ... \n",
       "Civic & Social Organization      1\n",
       "Public Safety                    1\n",
       "Wholesale                        1\n",
       "Consumer Goods                   1\n",
       "Online Media                     1\n",
       "Name: industry, Length: 62, dtype: int64"
      ]
     },
     "execution_count": 16,
     "metadata": {},
     "output_type": "execute_result"
    }
   ],
   "source": [
    "# Number of fake job postings per industry\n",
    "df.industry[df[\"fraudulent\"] == 1].value_counts()"
   ]
  },
  {
   "cell_type": "markdown",
   "id": "3a067f7b",
   "metadata": {},
   "source": [
    "<h4><font color=darkslategray>Fake job postings VS. industry</font></h4>"
   ]
  },
  {
   "cell_type": "code",
   "execution_count": 17,
   "id": "5eb7057c",
   "metadata": {},
   "outputs": [
    {
     "data": {
      "text/html": [
       "<div>\n",
       "<style scoped>\n",
       "    .dataframe tbody tr th:only-of-type {\n",
       "        vertical-align: middle;\n",
       "    }\n",
       "\n",
       "    .dataframe tbody tr th {\n",
       "        vertical-align: top;\n",
       "    }\n",
       "\n",
       "    .dataframe thead th {\n",
       "        text-align: right;\n",
       "    }\n",
       "</style>\n",
       "<table border=\"1\" class=\"dataframe\">\n",
       "  <thead>\n",
       "    <tr style=\"text-align: right;\">\n",
       "      <th>industry</th>\n",
       "      <th>Accounting</th>\n",
       "      <th>Airlines/Aviation</th>\n",
       "      <th>Alternative Dispute Resolution</th>\n",
       "      <th>Animation</th>\n",
       "      <th>Apparel &amp; Fashion</th>\n",
       "      <th>Architecture &amp; Planning</th>\n",
       "      <th>Automotive</th>\n",
       "      <th>Aviation &amp; Aerospace</th>\n",
       "      <th>Banking</th>\n",
       "      <th>Biotechnology</th>\n",
       "      <th>...</th>\n",
       "      <th>Translation and Localization</th>\n",
       "      <th>Transportation/Trucking/Railroad</th>\n",
       "      <th>Utilities</th>\n",
       "      <th>Venture Capital &amp; Private Equity</th>\n",
       "      <th>Veterinary</th>\n",
       "      <th>Warehousing</th>\n",
       "      <th>Wholesale</th>\n",
       "      <th>Wine and Spirits</th>\n",
       "      <th>Wireless</th>\n",
       "      <th>Writing and Editing</th>\n",
       "    </tr>\n",
       "    <tr>\n",
       "      <th>fraudulent</th>\n",
       "      <th></th>\n",
       "      <th></th>\n",
       "      <th></th>\n",
       "      <th></th>\n",
       "      <th></th>\n",
       "      <th></th>\n",
       "      <th></th>\n",
       "      <th></th>\n",
       "      <th></th>\n",
       "      <th></th>\n",
       "      <th></th>\n",
       "      <th></th>\n",
       "      <th></th>\n",
       "      <th></th>\n",
       "      <th></th>\n",
       "      <th></th>\n",
       "      <th></th>\n",
       "      <th></th>\n",
       "      <th></th>\n",
       "      <th></th>\n",
       "      <th></th>\n",
       "    </tr>\n",
       "  </thead>\n",
       "  <tbody>\n",
       "    <tr>\n",
       "      <th>0</th>\n",
       "      <td>102</td>\n",
       "      <td>62</td>\n",
       "      <td>1</td>\n",
       "      <td>3</td>\n",
       "      <td>95</td>\n",
       "      <td>10</td>\n",
       "      <td>115</td>\n",
       "      <td>24</td>\n",
       "      <td>81</td>\n",
       "      <td>34</td>\n",
       "      <td>...</td>\n",
       "      <td>10</td>\n",
       "      <td>50</td>\n",
       "      <td>32</td>\n",
       "      <td>29</td>\n",
       "      <td>8</td>\n",
       "      <td>50</td>\n",
       "      <td>10</td>\n",
       "      <td>1</td>\n",
       "      <td>4</td>\n",
       "      <td>19</td>\n",
       "    </tr>\n",
       "    <tr>\n",
       "      <th>1</th>\n",
       "      <td>57</td>\n",
       "      <td>1</td>\n",
       "      <td>0</td>\n",
       "      <td>2</td>\n",
       "      <td>2</td>\n",
       "      <td>0</td>\n",
       "      <td>5</td>\n",
       "      <td>0</td>\n",
       "      <td>3</td>\n",
       "      <td>4</td>\n",
       "      <td>...</td>\n",
       "      <td>0</td>\n",
       "      <td>3</td>\n",
       "      <td>1</td>\n",
       "      <td>0</td>\n",
       "      <td>0</td>\n",
       "      <td>1</td>\n",
       "      <td>1</td>\n",
       "      <td>0</td>\n",
       "      <td>0</td>\n",
       "      <td>0</td>\n",
       "    </tr>\n",
       "  </tbody>\n",
       "</table>\n",
       "<p>2 rows × 131 columns</p>\n",
       "</div>"
      ],
      "text/plain": [
       "industry    Accounting  Airlines/Aviation  Alternative Dispute Resolution  \\\n",
       "fraudulent                                                                  \n",
       "0                  102                 62                               1   \n",
       "1                   57                  1                               0   \n",
       "\n",
       "industry    Animation  Apparel & Fashion  Architecture & Planning  Automotive  \\\n",
       "fraudulent                                                                      \n",
       "0                   3                 95                       10         115   \n",
       "1                   2                  2                        0           5   \n",
       "\n",
       "industry    Aviation & Aerospace  Banking  Biotechnology  ...  \\\n",
       "fraudulent                                                ...   \n",
       "0                             24       81             34  ...   \n",
       "1                              0        3              4  ...   \n",
       "\n",
       "industry    Translation and Localization  Transportation/Trucking/Railroad  \\\n",
       "fraudulent                                                                   \n",
       "0                                     10                                50   \n",
       "1                                      0                                 3   \n",
       "\n",
       "industry    Utilities  Venture Capital & Private Equity  Veterinary  \\\n",
       "fraudulent                                                            \n",
       "0                  32                                29           8   \n",
       "1                   1                                 0           0   \n",
       "\n",
       "industry    Warehousing  Wholesale  Wine and Spirits  Wireless  \\\n",
       "fraudulent                                                       \n",
       "0                    50         10                 1         4   \n",
       "1                     1          1                 0         0   \n",
       "\n",
       "industry    Writing and Editing  \n",
       "fraudulent                       \n",
       "0                            19  \n",
       "1                             0  \n",
       "\n",
       "[2 rows x 131 columns]"
      ]
     },
     "execution_count": 17,
     "metadata": {},
     "output_type": "execute_result"
    }
   ],
   "source": [
    "# Compare fraudulent column with industry column\n",
    "pd.crosstab(index=df.fraudulent, \n",
    "            columns=df.industry)"
   ]
  },
  {
   "cell_type": "markdown",
   "id": "96ed2e78",
   "metadata": {},
   "source": [
    "Since there are too many industries to visualize on graph, let's get the top 10"
   ]
  },
  {
   "cell_type": "markdown",
   "id": "3a979207",
   "metadata": {},
   "source": [
    "<h4><font color=darkslategray>Top 10 industries that have the highest number of fake job postings</font></h4>"
   ]
  },
  {
   "cell_type": "code",
   "execution_count": 18,
   "id": "79f08a7d",
   "metadata": {},
   "outputs": [
    {
     "data": {
      "text/plain": [
       "Oil & Energy                           109\n",
       "Accounting                              57\n",
       "Hospital & Health Care                  51\n",
       "Marketing and Advertising               45\n",
       "Financial Services                      35\n",
       "Information Technology and Services     32\n",
       "Telecommunications                      26\n",
       "Real Estate                             24\n",
       "Consumer Services                       24\n",
       "Leisure, Travel & Tourism               21\n",
       "Name: industry, dtype: int64"
      ]
     },
     "execution_count": 18,
     "metadata": {},
     "output_type": "execute_result"
    }
   ],
   "source": [
    "# Get top 10 industries that have the highest number of fake job postings\n",
    "# top_fraudulent_industries = df.fraudulent[df.fraudulent == 1].groupby(df['industry']).value_counts().sort_values(ascending=False).head(10)\n",
    "\n",
    "top_fraudulent_industries = df.industry[df[\"fraudulent\"] == 1].value_counts().head(10)\n",
    "\n",
    "top_fraudulent_industries"
   ]
  },
  {
   "cell_type": "markdown",
   "id": "d6c9547f",
   "metadata": {},
   "source": [
    "<h4><font color=darkslategray>Visualize top 10 industries that have the highest number of fake job postings</font></h4>"
   ]
  },
  {
   "cell_type": "code",
   "execution_count": 19,
   "id": "5027b778",
   "metadata": {
    "code_folding": [],
    "scrolled": false
   },
   "outputs": [
    {
     "data": {
      "image/png": "[encoded data removed]",
      "text/plain": [
       "<Figure size 640x480 with 1 Axes>"
      ]
     },
     "metadata": {},
     "output_type": "display_data"
    }
   ],
   "source": [
    "# Visualize top 10 industries that have the highest number of fake job postings\n",
    "top_fraudulent_industries.plot.bar();\n",
    "\n",
    "top_fraudulent_industries.plot(kind='bar',\n",
    "#                                 figsize=(10, 8),\n",
    "                                title=\"Top 10 industries with the highest number of fake job postings \\n\",\n",
    "                                colormap=\"Set2\",\n",
    "                                xlabel=\"Industry\",\n",
    "                                ylabel=\"Frequency\");"
   ]
  },
  {
   "cell_type": "markdown",
   "id": "2f6da0c1",
   "metadata": {},
   "source": [
    "Oil & energy and accounting industries have the highest number of fake job postings."
   ]
  },
  {
   "cell_type": "code",
   "execution_count": 20,
   "id": "ea90b0ca",
   "metadata": {},
   "outputs": [],
   "source": [
    "# industries = df[df.fraudulent == 1].groupby(['industry']).agg({'fraudulent': 'sum'})\n",
    "# industries"
   ]
  },
  {
   "cell_type": "code",
   "execution_count": 21,
   "id": "c9d3d001",
   "metadata": {},
   "outputs": [],
   "source": [
    "# sns.violinplot(data=df, x=\"industry\", y=\"fraudulent\", cut=0)\n",
    "# sns.violinplot(data=df, x=\"fraudulent\", y=\"required_experience\", scale=\"count\")"
   ]
  },
  {
   "cell_type": "markdown",
   "id": "0f17146d",
   "metadata": {},
   "source": [
    "<h3><font color=slateblue> Fraudulent job postings Frequency according to employment type</font></h3>"
   ]
  },
  {
   "cell_type": "markdown",
   "id": "b70296e1",
   "metadata": {},
   "source": [
    "<h4><font color=darkslategray>Number of employment types</font></h4>"
   ]
  },
  {
   "cell_type": "code",
   "execution_count": 22,
   "id": "9c14ef12",
   "metadata": {},
   "outputs": [
    {
     "data": {
      "text/plain": [
       "Full-time    11620\n",
       "Contract      1524\n",
       "Part-time      797\n",
       "Temporary      241\n",
       "Other          227\n",
       "Name: employment_type, dtype: int64"
      ]
     },
     "execution_count": 22,
     "metadata": {},
     "output_type": "execute_result"
    }
   ],
   "source": [
    "df.employment_type.value_counts()"
   ]
  },
  {
   "cell_type": "markdown",
   "id": "2d364b55",
   "metadata": {},
   "source": [
    "<h4><font color=darkslategray>Categories of employment type</font></h4>"
   ]
  },
  {
   "cell_type": "code",
   "execution_count": 23,
   "id": "984ee072",
   "metadata": {},
   "outputs": [
    {
     "data": {
      "text/plain": [
       "array(['Other', 'Full-time', nan, 'Part-time', 'Contract', 'Temporary'],\n",
       "      dtype=object)"
      ]
     },
     "execution_count": 23,
     "metadata": {},
     "output_type": "execute_result"
    }
   ],
   "source": [
    "df[\"employment_type\"].unique()"
   ]
  },
  {
   "cell_type": "markdown",
   "id": "e0aefafd",
   "metadata": {},
   "source": [
    "<h4><font color=darkslategray>Visualize categories of employment type</font></h4>"
   ]
  },
  {
   "cell_type": "code",
   "execution_count": 24,
   "id": "adc08eb8",
   "metadata": {},
   "outputs": [
    {
     "data": {
      "image/png": "[encoded data removed]",
      "text/plain": [
       "<Figure size 500x500 with 1 Axes>"
      ]
     },
     "metadata": {},
     "output_type": "display_data"
    }
   ],
   "source": [
    "employment_types_graph = sns.catplot(data=df, x=\"employment_type\", kind=\"count\", palette=\"ch:.25\");\n",
    "employment_types_graph.fig.suptitle(\"Employment Types\", fontsize=14);"
   ]
  },
  {
   "cell_type": "markdown",
   "id": "6938ce0c",
   "metadata": {},
   "source": [
    "<h4><font color=darkslategray>Categories of employment type VS. Fraudulent</font></h4>"
   ]
  },
  {
   "cell_type": "code",
   "execution_count": 25,
   "id": "14605795",
   "metadata": {},
   "outputs": [
    {
     "data": {
      "text/html": [
       "<div>\n",
       "<style scoped>\n",
       "    .dataframe tbody tr th:only-of-type {\n",
       "        vertical-align: middle;\n",
       "    }\n",
       "\n",
       "    .dataframe tbody tr th {\n",
       "        vertical-align: top;\n",
       "    }\n",
       "\n",
       "    .dataframe thead th {\n",
       "        text-align: right;\n",
       "    }\n",
       "</style>\n",
       "<table border=\"1\" class=\"dataframe\">\n",
       "  <thead>\n",
       "    <tr style=\"text-align: right;\">\n",
       "      <th>fraudulent</th>\n",
       "      <th>0</th>\n",
       "      <th>1</th>\n",
       "    </tr>\n",
       "    <tr>\n",
       "      <th>employment_type</th>\n",
       "      <th></th>\n",
       "      <th></th>\n",
       "    </tr>\n",
       "  </thead>\n",
       "  <tbody>\n",
       "    <tr>\n",
       "      <th>Contract</th>\n",
       "      <td>1480</td>\n",
       "      <td>44</td>\n",
       "    </tr>\n",
       "    <tr>\n",
       "      <th>Full-time</th>\n",
       "      <td>11130</td>\n",
       "      <td>490</td>\n",
       "    </tr>\n",
       "    <tr>\n",
       "      <th>Other</th>\n",
       "      <td>212</td>\n",
       "      <td>15</td>\n",
       "    </tr>\n",
       "    <tr>\n",
       "      <th>Part-time</th>\n",
       "      <td>723</td>\n",
       "      <td>74</td>\n",
       "    </tr>\n",
       "    <tr>\n",
       "      <th>Temporary</th>\n",
       "      <td>239</td>\n",
       "      <td>2</td>\n",
       "    </tr>\n",
       "  </tbody>\n",
       "</table>\n",
       "</div>"
      ],
      "text/plain": [
       "fraudulent           0    1\n",
       "employment_type            \n",
       "Contract          1480   44\n",
       "Full-time        11130  490\n",
       "Other              212   15\n",
       "Part-time          723   74\n",
       "Temporary          239    2"
      ]
     },
     "execution_count": 25,
     "metadata": {},
     "output_type": "execute_result"
    }
   ],
   "source": [
    "pd.crosstab(df.employment_type, df.fraudulent)"
   ]
  },
  {
   "cell_type": "markdown",
   "id": "2dbe61ec",
   "metadata": {},
   "source": [
    "<h4><font color=darkslategray>Visualize categories of employment type VS. Fraudulent</font></h4>"
   ]
  },
  {
   "cell_type": "code",
   "execution_count": 26,
   "id": "f2b64a56",
   "metadata": {
    "code_folding": []
   },
   "outputs": [
    {
     "data": {
      "image/png": "[encoded data removed]",
      "text/plain": [
       "<Figure size 1000x600 with 1 Axes>"
      ]
     },
     "metadata": {},
     "output_type": "display_data"
    }
   ],
   "source": [
    "# Make the crosstab more visual\n",
    "pd.crosstab(df.employment_type, df.fraudulent).plot(kind=\"bar\",\n",
    "                                  figsize=(10, 6),\n",
    "                                  color=[\"salmon\", \"lightblue\"]);\n",
    "\n",
    "# Add some communication\n",
    "plt.title(\"Fraudulent Job Postings Frequency per Employment Type\")\n",
    "plt.xlabel(\"Employment Type\")\n",
    "plt.ylabel(\"Amount\")\n",
    "plt.legend([\"Not Fraudulent\", \"Fraudulent\"])\n",
    "plt.xticks(rotation=0);"
   ]
  },
  {
   "cell_type": "markdown",
   "id": "d04e6ba8",
   "metadata": {},
   "source": [
    "Full time and part time jobs have the highest number of fake job postings."
   ]
  },
  {
   "cell_type": "markdown",
   "id": "85cd1321",
   "metadata": {},
   "source": [
    "<h3><font color=slateblue> Fraudulent job postings Frequency according to required experience</font></h3>"
   ]
  },
  {
   "cell_type": "markdown",
   "id": "01f9b981",
   "metadata": {},
   "source": [
    "<h4><font color=darkslategray>Number of required experiences</font></h4>"
   ]
  },
  {
   "cell_type": "code",
   "execution_count": 27,
   "id": "e50c95fc",
   "metadata": {},
   "outputs": [
    {
     "data": {
      "text/plain": [
       "Mid-Senior level    3809\n",
       "Entry level         2697\n",
       "Associate           2297\n",
       "Not Applicable      1116\n",
       "Director             389\n",
       "Internship           381\n",
       "Executive            141\n",
       "Name: required_experience, dtype: int64"
      ]
     },
     "execution_count": 27,
     "metadata": {},
     "output_type": "execute_result"
    }
   ],
   "source": [
    "df.required_experience.value_counts()"
   ]
  },
  {
   "cell_type": "markdown",
   "id": "c418c524",
   "metadata": {},
   "source": [
    "<h4><font color=darkslategray>Categories of required experience</font></h4>"
   ]
  },
  {
   "cell_type": "code",
   "execution_count": 28,
   "id": "7ed905f7",
   "metadata": {
    "scrolled": true
   },
   "outputs": [
    {
     "data": {
      "text/plain": [
       "array(['Internship', 'Not Applicable', nan, 'Mid-Senior level',\n",
       "       'Associate', 'Entry level', 'Executive', 'Director'], dtype=object)"
      ]
     },
     "execution_count": 28,
     "metadata": {},
     "output_type": "execute_result"
    }
   ],
   "source": [
    "df[\"required_experience\"].unique()"
   ]
  },
  {
   "cell_type": "markdown",
   "id": "b011cf18",
   "metadata": {},
   "source": [
    "<h4><font color=darkslategray>Categories of required experience VS. Fraudulent</font></h4>"
   ]
  },
  {
   "cell_type": "code",
   "execution_count": 29,
   "id": "f71d7bfe",
   "metadata": {},
   "outputs": [
    {
     "data": {
      "text/html": [
       "<div>\n",
       "<style scoped>\n",
       "    .dataframe tbody tr th:only-of-type {\n",
       "        vertical-align: middle;\n",
       "    }\n",
       "\n",
       "    .dataframe tbody tr th {\n",
       "        vertical-align: top;\n",
       "    }\n",
       "\n",
       "    .dataframe thead th {\n",
       "        text-align: right;\n",
       "    }\n",
       "</style>\n",
       "<table border=\"1\" class=\"dataframe\">\n",
       "  <thead>\n",
       "    <tr style=\"text-align: right;\">\n",
       "      <th>fraudulent</th>\n",
       "      <th>0</th>\n",
       "      <th>1</th>\n",
       "    </tr>\n",
       "    <tr>\n",
       "      <th>required_experience</th>\n",
       "      <th></th>\n",
       "      <th></th>\n",
       "    </tr>\n",
       "  </thead>\n",
       "  <tbody>\n",
       "    <tr>\n",
       "      <th>Associate</th>\n",
       "      <td>2255</td>\n",
       "      <td>42</td>\n",
       "    </tr>\n",
       "    <tr>\n",
       "      <th>Director</th>\n",
       "      <td>372</td>\n",
       "      <td>17</td>\n",
       "    </tr>\n",
       "    <tr>\n",
       "      <th>Entry level</th>\n",
       "      <td>2518</td>\n",
       "      <td>179</td>\n",
       "    </tr>\n",
       "    <tr>\n",
       "      <th>Executive</th>\n",
       "      <td>131</td>\n",
       "      <td>10</td>\n",
       "    </tr>\n",
       "    <tr>\n",
       "      <th>Internship</th>\n",
       "      <td>371</td>\n",
       "      <td>10</td>\n",
       "    </tr>\n",
       "    <tr>\n",
       "      <th>Mid-Senior level</th>\n",
       "      <td>3696</td>\n",
       "      <td>113</td>\n",
       "    </tr>\n",
       "    <tr>\n",
       "      <th>Not Applicable</th>\n",
       "      <td>1056</td>\n",
       "      <td>60</td>\n",
       "    </tr>\n",
       "  </tbody>\n",
       "</table>\n",
       "</div>"
      ],
      "text/plain": [
       "fraudulent              0    1\n",
       "required_experience           \n",
       "Associate            2255   42\n",
       "Director              372   17\n",
       "Entry level          2518  179\n",
       "Executive             131   10\n",
       "Internship            371   10\n",
       "Mid-Senior level     3696  113\n",
       "Not Applicable       1056   60"
      ]
     },
     "execution_count": 29,
     "metadata": {},
     "output_type": "execute_result"
    }
   ],
   "source": [
    "pd.crosstab(df.required_experience, df.fraudulent)"
   ]
  },
  {
   "cell_type": "markdown",
   "id": "e4b95744",
   "metadata": {},
   "source": [
    "<h4><font color=darkslategray>Visualize categories of employment type VS. Fraudulent</font></h4>"
   ]
  },
  {
   "cell_type": "code",
   "execution_count": 30,
   "id": "e53c29be",
   "metadata": {
    "code_folding": []
   },
   "outputs": [
    {
     "data": {
      "image/png": "[encoded data removed]",
      "text/plain": [
       "<Figure size 1000x600 with 1 Axes>"
      ]
     },
     "metadata": {},
     "output_type": "display_data"
    }
   ],
   "source": [
    "# Make the crosstab more visual\n",
    "pd.crosstab(df.required_experience, df.fraudulent).plot(kind=\"bar\",\n",
    "                                  figsize=(10, 6),\n",
    "                                  color=[\"salmon\", \"lightblue\"]);\n",
    "\n",
    "# Add some communication\n",
    "plt.title(\"Fraudulent Job Postings Frequency per Required Experience\")\n",
    "plt.xlabel(\"Required Experience\")\n",
    "plt.ylabel(\"Amount\")\n",
    "plt.legend([\"Not Fraudulent\", \"Fraudulent\"])\n",
    "plt.xticks(rotation=0);"
   ]
  },
  {
   "cell_type": "markdown",
   "id": "abd3c5cc",
   "metadata": {},
   "source": [
    "Entry and mid-senior levels have the highest number of fake job postings."
   ]
  },
  {
   "cell_type": "markdown",
   "id": "668c9dc3",
   "metadata": {},
   "source": [
    "<h3><font color=slateblue> Fraudulent job postings Frequency according to function</font></h3>"
   ]
  },
  {
   "cell_type": "markdown",
   "id": "6d093152",
   "metadata": {},
   "source": [
    "<h4><font color=darkslategray>Number of functions</font></h4>"
   ]
  },
  {
   "cell_type": "code",
   "execution_count": 31,
   "id": "cb7d6e70",
   "metadata": {},
   "outputs": [
    {
     "data": {
      "text/plain": [
       "Information Technology    1749\n",
       "Sales                     1468\n",
       "Engineering               1348\n",
       "Customer Service          1229\n",
       "Marketing                  830\n",
       "Administrative             630\n",
       "Design                     340\n",
       "Health Care Provider       338\n",
       "Other                      325\n",
       "Education                  325\n",
       "Management                 317\n",
       "Business Development       228\n",
       "Accounting/Auditing        212\n",
       "Human Resources            205\n",
       "Project Management         183\n",
       "Finance                    172\n",
       "Consulting                 144\n",
       "Writing/Editing            132\n",
       "Art/Creative               132\n",
       "Production                 116\n",
       "Product Management         114\n",
       "Quality Assurance          111\n",
       "Advertising                 90\n",
       "Business Analyst            84\n",
       "Data Analyst                82\n",
       "Public Relations            76\n",
       "Manufacturing               74\n",
       "General Business            68\n",
       "Research                    50\n",
       "Legal                       47\n",
       "Strategy/Planning           46\n",
       "Training                    38\n",
       "Supply Chain                36\n",
       "Financial Analyst           33\n",
       "Distribution                24\n",
       "Purchasing                  15\n",
       "Science                     14\n",
       "Name: function, dtype: int64"
      ]
     },
     "execution_count": 31,
     "metadata": {},
     "output_type": "execute_result"
    }
   ],
   "source": [
    "df.function.value_counts()"
   ]
  },
  {
   "cell_type": "markdown",
   "id": "2914a196",
   "metadata": {},
   "source": [
    "<h4><font color=darkslategray>Categories of function</font></h4>"
   ]
  },
  {
   "cell_type": "code",
   "execution_count": 32,
   "id": "78367afe",
   "metadata": {},
   "outputs": [
    {
     "data": {
      "text/plain": [
       "array(['Marketing', 'Customer Service', nan, 'Sales',\n",
       "       'Health Care Provider', 'Management', 'Information Technology',\n",
       "       'Other', 'Engineering', 'Administrative', 'Design', 'Production',\n",
       "       'Education', 'Supply Chain', 'Business Development',\n",
       "       'Product Management', 'Financial Analyst', 'Consulting',\n",
       "       'Human Resources', 'Project Management', 'Manufacturing',\n",
       "       'Public Relations', 'Strategy/Planning', 'Advertising', 'Finance',\n",
       "       'General Business', 'Research', 'Accounting/Auditing',\n",
       "       'Art/Creative', 'Quality Assurance', 'Data Analyst',\n",
       "       'Business Analyst', 'Writing/Editing', 'Distribution', 'Science',\n",
       "       'Training', 'Purchasing', 'Legal'], dtype=object)"
      ]
     },
     "execution_count": 32,
     "metadata": {},
     "output_type": "execute_result"
    }
   ],
   "source": [
    "df[\"function\"].unique()"
   ]
  },
  {
   "cell_type": "markdown",
   "id": "9ae1f44f",
   "metadata": {},
   "source": [
    "<h4><font color=darkslategray>Categories of function VS. Fraudulent</font></h4>"
   ]
  },
  {
   "cell_type": "code",
   "execution_count": 33,
   "id": "c314041b",
   "metadata": {},
   "outputs": [
    {
     "data": {
      "text/html": [
       "<div>\n",
       "<style scoped>\n",
       "    .dataframe tbody tr th:only-of-type {\n",
       "        vertical-align: middle;\n",
       "    }\n",
       "\n",
       "    .dataframe tbody tr th {\n",
       "        vertical-align: top;\n",
       "    }\n",
       "\n",
       "    .dataframe thead th {\n",
       "        text-align: right;\n",
       "    }\n",
       "</style>\n",
       "<table border=\"1\" class=\"dataframe\">\n",
       "  <thead>\n",
       "    <tr style=\"text-align: right;\">\n",
       "      <th>fraudulent</th>\n",
       "      <th>0</th>\n",
       "      <th>1</th>\n",
       "    </tr>\n",
       "    <tr>\n",
       "      <th>function</th>\n",
       "      <th></th>\n",
       "      <th></th>\n",
       "    </tr>\n",
       "  </thead>\n",
       "  <tbody>\n",
       "    <tr>\n",
       "      <th>Accounting/Auditing</th>\n",
       "      <td>183</td>\n",
       "      <td>29</td>\n",
       "    </tr>\n",
       "    <tr>\n",
       "      <th>Administrative</th>\n",
       "      <td>511</td>\n",
       "      <td>119</td>\n",
       "    </tr>\n",
       "    <tr>\n",
       "      <th>Advertising</th>\n",
       "      <td>85</td>\n",
       "      <td>5</td>\n",
       "    </tr>\n",
       "    <tr>\n",
       "      <th>Art/Creative</th>\n",
       "      <td>131</td>\n",
       "      <td>1</td>\n",
       "    </tr>\n",
       "    <tr>\n",
       "      <th>Business Analyst</th>\n",
       "      <td>83</td>\n",
       "      <td>1</td>\n",
       "    </tr>\n",
       "    <tr>\n",
       "      <th>Business Development</th>\n",
       "      <td>215</td>\n",
       "      <td>13</td>\n",
       "    </tr>\n",
       "    <tr>\n",
       "      <th>Consulting</th>\n",
       "      <td>140</td>\n",
       "      <td>4</td>\n",
       "    </tr>\n",
       "    <tr>\n",
       "      <th>Customer Service</th>\n",
       "      <td>1162</td>\n",
       "      <td>67</td>\n",
       "    </tr>\n",
       "    <tr>\n",
       "      <th>Data Analyst</th>\n",
       "      <td>78</td>\n",
       "      <td>4</td>\n",
       "    </tr>\n",
       "    <tr>\n",
       "      <th>Design</th>\n",
       "      <td>337</td>\n",
       "      <td>3</td>\n",
       "    </tr>\n",
       "    <tr>\n",
       "      <th>Distribution</th>\n",
       "      <td>21</td>\n",
       "      <td>3</td>\n",
       "    </tr>\n",
       "    <tr>\n",
       "      <th>Education</th>\n",
       "      <td>324</td>\n",
       "      <td>1</td>\n",
       "    </tr>\n",
       "    <tr>\n",
       "      <th>Engineering</th>\n",
       "      <td>1235</td>\n",
       "      <td>113</td>\n",
       "    </tr>\n",
       "    <tr>\n",
       "      <th>Finance</th>\n",
       "      <td>157</td>\n",
       "      <td>15</td>\n",
       "    </tr>\n",
       "    <tr>\n",
       "      <th>Financial Analyst</th>\n",
       "      <td>28</td>\n",
       "      <td>5</td>\n",
       "    </tr>\n",
       "    <tr>\n",
       "      <th>General Business</th>\n",
       "      <td>67</td>\n",
       "      <td>1</td>\n",
       "    </tr>\n",
       "    <tr>\n",
       "      <th>Health Care Provider</th>\n",
       "      <td>337</td>\n",
       "      <td>1</td>\n",
       "    </tr>\n",
       "    <tr>\n",
       "      <th>Human Resources</th>\n",
       "      <td>196</td>\n",
       "      <td>9</td>\n",
       "    </tr>\n",
       "    <tr>\n",
       "      <th>Information Technology</th>\n",
       "      <td>1717</td>\n",
       "      <td>32</td>\n",
       "    </tr>\n",
       "    <tr>\n",
       "      <th>Legal</th>\n",
       "      <td>47</td>\n",
       "      <td>0</td>\n",
       "    </tr>\n",
       "    <tr>\n",
       "      <th>Management</th>\n",
       "      <td>311</td>\n",
       "      <td>6</td>\n",
       "    </tr>\n",
       "    <tr>\n",
       "      <th>Manufacturing</th>\n",
       "      <td>72</td>\n",
       "      <td>2</td>\n",
       "    </tr>\n",
       "    <tr>\n",
       "      <th>Marketing</th>\n",
       "      <td>820</td>\n",
       "      <td>10</td>\n",
       "    </tr>\n",
       "    <tr>\n",
       "      <th>Other</th>\n",
       "      <td>293</td>\n",
       "      <td>32</td>\n",
       "    </tr>\n",
       "    <tr>\n",
       "      <th>Product Management</th>\n",
       "      <td>114</td>\n",
       "      <td>0</td>\n",
       "    </tr>\n",
       "    <tr>\n",
       "      <th>Production</th>\n",
       "      <td>116</td>\n",
       "      <td>0</td>\n",
       "    </tr>\n",
       "    <tr>\n",
       "      <th>Project Management</th>\n",
       "      <td>173</td>\n",
       "      <td>10</td>\n",
       "    </tr>\n",
       "    <tr>\n",
       "      <th>Public Relations</th>\n",
       "      <td>75</td>\n",
       "      <td>1</td>\n",
       "    </tr>\n",
       "    <tr>\n",
       "      <th>Purchasing</th>\n",
       "      <td>15</td>\n",
       "      <td>0</td>\n",
       "    </tr>\n",
       "    <tr>\n",
       "      <th>Quality Assurance</th>\n",
       "      <td>111</td>\n",
       "      <td>0</td>\n",
       "    </tr>\n",
       "    <tr>\n",
       "      <th>Research</th>\n",
       "      <td>50</td>\n",
       "      <td>0</td>\n",
       "    </tr>\n",
       "    <tr>\n",
       "      <th>Sales</th>\n",
       "      <td>1427</td>\n",
       "      <td>41</td>\n",
       "    </tr>\n",
       "    <tr>\n",
       "      <th>Science</th>\n",
       "      <td>14</td>\n",
       "      <td>0</td>\n",
       "    </tr>\n",
       "    <tr>\n",
       "      <th>Strategy/Planning</th>\n",
       "      <td>45</td>\n",
       "      <td>1</td>\n",
       "    </tr>\n",
       "    <tr>\n",
       "      <th>Supply Chain</th>\n",
       "      <td>36</td>\n",
       "      <td>0</td>\n",
       "    </tr>\n",
       "    <tr>\n",
       "      <th>Training</th>\n",
       "      <td>38</td>\n",
       "      <td>0</td>\n",
       "    </tr>\n",
       "    <tr>\n",
       "      <th>Writing/Editing</th>\n",
       "      <td>132</td>\n",
       "      <td>0</td>\n",
       "    </tr>\n",
       "  </tbody>\n",
       "</table>\n",
       "</div>"
      ],
      "text/plain": [
       "fraudulent                 0    1\n",
       "function                         \n",
       "Accounting/Auditing      183   29\n",
       "Administrative           511  119\n",
       "Advertising               85    5\n",
       "Art/Creative             131    1\n",
       "Business Analyst          83    1\n",
       "Business Development     215   13\n",
       "Consulting               140    4\n",
       "Customer Service        1162   67\n",
       "Data Analyst              78    4\n",
       "Design                   337    3\n",
       "Distribution              21    3\n",
       "Education                324    1\n",
       "Engineering             1235  113\n",
       "Finance                  157   15\n",
       "Financial Analyst         28    5\n",
       "General Business          67    1\n",
       "Health Care Provider     337    1\n",
       "Human Resources          196    9\n",
       "Information Technology  1717   32\n",
       "Legal                     47    0\n",
       "Management               311    6\n",
       "Manufacturing             72    2\n",
       "Marketing                820   10\n",
       "Other                    293   32\n",
       "Product Management       114    0\n",
       "Production               116    0\n",
       "Project Management       173   10\n",
       "Public Relations          75    1\n",
       "Purchasing                15    0\n",
       "Quality Assurance        111    0\n",
       "Research                  50    0\n",
       "Sales                   1427   41\n",
       "Science                   14    0\n",
       "Strategy/Planning         45    1\n",
       "Supply Chain              36    0\n",
       "Training                  38    0\n",
       "Writing/Editing          132    0"
      ]
     },
     "execution_count": 33,
     "metadata": {},
     "output_type": "execute_result"
    }
   ],
   "source": [
    "pd.crosstab(df.function, df.fraudulent)"
   ]
  },
  {
   "cell_type": "markdown",
   "id": "f278b6c3",
   "metadata": {},
   "source": [
    "<h3><font color=slateblue> Fraudulent job postings Frequency according to Required Education</font></h3>"
   ]
  },
  {
   "cell_type": "markdown",
   "id": "832881d0",
   "metadata": {},
   "source": [
    "<h4><font color=darkslategray>Number of required educations</font></h4>"
   ]
  },
  {
   "cell_type": "code",
   "execution_count": 34,
   "id": "fa187c52",
   "metadata": {},
   "outputs": [
    {
     "data": {
      "text/plain": [
       "Bachelor's Degree                    5145\n",
       "High School or equivalent            2080\n",
       "Unspecified                          1397\n",
       "Master's Degree                       416\n",
       "Associate Degree                      274\n",
       "Certification                         170\n",
       "Some College Coursework Completed     102\n",
       "Professional                           74\n",
       "Vocational                             49\n",
       "Some High School Coursework            27\n",
       "Doctorate                              26\n",
       "Vocational - HS Diploma                 9\n",
       "Vocational - Degree                     6\n",
       "Name: required_education, dtype: int64"
      ]
     },
     "execution_count": 34,
     "metadata": {},
     "output_type": "execute_result"
    }
   ],
   "source": [
    "df.required_education.value_counts()"
   ]
  },
  {
   "cell_type": "markdown",
   "id": "e5dfea55",
   "metadata": {},
   "source": [
    "<h4><font color=darkslategray>Categories of required education</font></h4>"
   ]
  },
  {
   "cell_type": "code",
   "execution_count": 35,
   "id": "4819009b",
   "metadata": {},
   "outputs": [
    {
     "data": {
      "text/plain": [
       "array([nan, \"Bachelor's Degree\", \"Master's Degree\",\n",
       "       'High School or equivalent', 'Unspecified',\n",
       "       'Some College Coursework Completed', 'Vocational', 'Certification',\n",
       "       'Associate Degree', 'Professional', 'Doctorate',\n",
       "       'Some High School Coursework', 'Vocational - Degree',\n",
       "       'Vocational - HS Diploma'], dtype=object)"
      ]
     },
     "execution_count": 35,
     "metadata": {},
     "output_type": "execute_result"
    }
   ],
   "source": [
    "df[\"required_education\"].unique()"
   ]
  },
  {
   "cell_type": "markdown",
   "id": "f125e7ff",
   "metadata": {},
   "source": [
    "<h4><font color=darkslategray>Categories of required education VS. Fraudulent</font></h4>"
   ]
  },
  {
   "cell_type": "code",
   "execution_count": 36,
   "id": "5887a550",
   "metadata": {},
   "outputs": [
    {
     "data": {
      "text/html": [
       "<div>\n",
       "<style scoped>\n",
       "    .dataframe tbody tr th:only-of-type {\n",
       "        vertical-align: middle;\n",
       "    }\n",
       "\n",
       "    .dataframe tbody tr th {\n",
       "        vertical-align: top;\n",
       "    }\n",
       "\n",
       "    .dataframe thead th {\n",
       "        text-align: right;\n",
       "    }\n",
       "</style>\n",
       "<table border=\"1\" class=\"dataframe\">\n",
       "  <thead>\n",
       "    <tr style=\"text-align: right;\">\n",
       "      <th>fraudulent</th>\n",
       "      <th>0</th>\n",
       "      <th>1</th>\n",
       "    </tr>\n",
       "    <tr>\n",
       "      <th>required_education</th>\n",
       "      <th></th>\n",
       "      <th></th>\n",
       "    </tr>\n",
       "  </thead>\n",
       "  <tbody>\n",
       "    <tr>\n",
       "      <th>Associate Degree</th>\n",
       "      <td>268</td>\n",
       "      <td>6</td>\n",
       "    </tr>\n",
       "    <tr>\n",
       "      <th>Bachelor's Degree</th>\n",
       "      <td>5045</td>\n",
       "      <td>100</td>\n",
       "    </tr>\n",
       "    <tr>\n",
       "      <th>Certification</th>\n",
       "      <td>151</td>\n",
       "      <td>19</td>\n",
       "    </tr>\n",
       "    <tr>\n",
       "      <th>Doctorate</th>\n",
       "      <td>25</td>\n",
       "      <td>1</td>\n",
       "    </tr>\n",
       "    <tr>\n",
       "      <th>High School or equivalent</th>\n",
       "      <td>1910</td>\n",
       "      <td>170</td>\n",
       "    </tr>\n",
       "    <tr>\n",
       "      <th>Master's Degree</th>\n",
       "      <td>385</td>\n",
       "      <td>31</td>\n",
       "    </tr>\n",
       "    <tr>\n",
       "      <th>Professional</th>\n",
       "      <td>70</td>\n",
       "      <td>4</td>\n",
       "    </tr>\n",
       "    <tr>\n",
       "      <th>Some College Coursework Completed</th>\n",
       "      <td>99</td>\n",
       "      <td>3</td>\n",
       "    </tr>\n",
       "    <tr>\n",
       "      <th>Some High School Coursework</th>\n",
       "      <td>7</td>\n",
       "      <td>20</td>\n",
       "    </tr>\n",
       "    <tr>\n",
       "      <th>Unspecified</th>\n",
       "      <td>1336</td>\n",
       "      <td>61</td>\n",
       "    </tr>\n",
       "    <tr>\n",
       "      <th>Vocational</th>\n",
       "      <td>49</td>\n",
       "      <td>0</td>\n",
       "    </tr>\n",
       "    <tr>\n",
       "      <th>Vocational - Degree</th>\n",
       "      <td>6</td>\n",
       "      <td>0</td>\n",
       "    </tr>\n",
       "    <tr>\n",
       "      <th>Vocational - HS Diploma</th>\n",
       "      <td>9</td>\n",
       "      <td>0</td>\n",
       "    </tr>\n",
       "  </tbody>\n",
       "</table>\n",
       "</div>"
      ],
      "text/plain": [
       "fraudulent                            0    1\n",
       "required_education                          \n",
       "Associate Degree                    268    6\n",
       "Bachelor's Degree                  5045  100\n",
       "Certification                       151   19\n",
       "Doctorate                            25    1\n",
       "High School or equivalent          1910  170\n",
       "Master's Degree                     385   31\n",
       "Professional                         70    4\n",
       "Some College Coursework Completed    99    3\n",
       "Some High School Coursework           7   20\n",
       "Unspecified                        1336   61\n",
       "Vocational                           49    0\n",
       "Vocational - Degree                   6    0\n",
       "Vocational - HS Diploma               9    0"
      ]
     },
     "execution_count": 36,
     "metadata": {},
     "output_type": "execute_result"
    }
   ],
   "source": [
    "pd.crosstab(df.required_education, df.fraudulent)"
   ]
  },
  {
   "cell_type": "markdown",
   "id": "6f3e8aa3",
   "metadata": {},
   "source": [
    "<h3><font color=slateblue> Correlation between numerical columns </font></h3>"
   ]
  },
  {
   "cell_type": "markdown",
   "id": "8feb17f8",
   "metadata": {},
   "source": [
    "<h4><font color=darkslategray>Correlation table</font></h4>"
   ]
  },
  {
   "cell_type": "code",
   "execution_count": 37,
   "id": "b63eddd2",
   "metadata": {
    "scrolled": true
   },
   "outputs": [
    {
     "data": {
      "text/html": [
       "<div>\n",
       "<style scoped>\n",
       "    .dataframe tbody tr th:only-of-type {\n",
       "        vertical-align: middle;\n",
       "    }\n",
       "\n",
       "    .dataframe tbody tr th {\n",
       "        vertical-align: top;\n",
       "    }\n",
       "\n",
       "    .dataframe thead th {\n",
       "        text-align: right;\n",
       "    }\n",
       "</style>\n",
       "<table border=\"1\" class=\"dataframe\">\n",
       "  <thead>\n",
       "    <tr style=\"text-align: right;\">\n",
       "      <th></th>\n",
       "      <th>job_id</th>\n",
       "      <th>telecommuting</th>\n",
       "      <th>has_company_logo</th>\n",
       "      <th>has_questions</th>\n",
       "      <th>fraudulent</th>\n",
       "    </tr>\n",
       "  </thead>\n",
       "  <tbody>\n",
       "    <tr>\n",
       "      <th>job_id</th>\n",
       "      <td>1.000000</td>\n",
       "      <td>-0.004559</td>\n",
       "      <td>-0.014539</td>\n",
       "      <td>-0.087025</td>\n",
       "      <td>0.079872</td>\n",
       "    </tr>\n",
       "    <tr>\n",
       "      <th>telecommuting</th>\n",
       "      <td>-0.004559</td>\n",
       "      <td>1.000000</td>\n",
       "      <td>-0.019836</td>\n",
       "      <td>0.020345</td>\n",
       "      <td>0.034523</td>\n",
       "    </tr>\n",
       "    <tr>\n",
       "      <th>has_company_logo</th>\n",
       "      <td>-0.014539</td>\n",
       "      <td>-0.019836</td>\n",
       "      <td>1.000000</td>\n",
       "      <td>0.233932</td>\n",
       "      <td>-0.261971</td>\n",
       "    </tr>\n",
       "    <tr>\n",
       "      <th>has_questions</th>\n",
       "      <td>-0.087025</td>\n",
       "      <td>0.020345</td>\n",
       "      <td>0.233932</td>\n",
       "      <td>1.000000</td>\n",
       "      <td>-0.091627</td>\n",
       "    </tr>\n",
       "    <tr>\n",
       "      <th>fraudulent</th>\n",
       "      <td>0.079872</td>\n",
       "      <td>0.034523</td>\n",
       "      <td>-0.261971</td>\n",
       "      <td>-0.091627</td>\n",
       "      <td>1.000000</td>\n",
       "    </tr>\n",
       "  </tbody>\n",
       "</table>\n",
       "</div>"
      ],
      "text/plain": [
       "                    job_id  telecommuting  has_company_logo  has_questions  \\\n",
       "job_id            1.000000      -0.004559         -0.014539      -0.087025   \n",
       "telecommuting    -0.004559       1.000000         -0.019836       0.020345   \n",
       "has_company_logo -0.014539      -0.019836          1.000000       0.233932   \n",
       "has_questions    -0.087025       0.020345          0.233932       1.000000   \n",
       "fraudulent        0.079872       0.034523         -0.261971      -0.091627   \n",
       "\n",
       "                  fraudulent  \n",
       "job_id              0.079872  \n",
       "telecommuting       0.034523  \n",
       "has_company_logo   -0.261971  \n",
       "has_questions      -0.091627  \n",
       "fraudulent          1.000000  "
      ]
     },
     "execution_count": 37,
     "metadata": {},
     "output_type": "execute_result"
    }
   ],
   "source": [
    "df.corr()"
   ]
  },
  {
   "cell_type": "markdown",
   "id": "ab27218d",
   "metadata": {},
   "source": [
    "<h4><font color=darkslategray>Visualize correlation table</font></h4>"
   ]
  },
  {
   "cell_type": "code",
   "execution_count": 38,
   "id": "d734512c",
   "metadata": {},
   "outputs": [
    {
     "data": {
      "image/png": "[encoded data removed]",
      "text/plain": [
       "<Figure size 1000x600 with 2 Axes>"
      ]
     },
     "metadata": {},
     "output_type": "display_data"
    }
   ],
   "source": [
    "corr_matrix = df.corr()\n",
    "plt.figure(figsize=(10, 6))\n",
    "sns.heatmap(corr_matrix, \n",
    "            annot=True, \n",
    "            linewidths=0.5, \n",
    "            fmt= \".2f\", \n",
    "            cmap=\"YlGnBu\");"
   ]
  },
  {
   "cell_type": "markdown",
   "id": "569fd777",
   "metadata": {},
   "source": [
    "The correlation matrix does not show any strong positive or negative correlations between the numerical data."
   ]
  },
  {
   "cell_type": "markdown",
   "id": "cd58ed08",
   "metadata": {},
   "source": [
    "<h2><font color=steelblue> Data cleaning </font></h2>\n",
    "\n",
    "1. Clean Nan values (department, salary_range, benefits, requirements, benefits, employment_type, required_experiece, required_education, industry, function)\n",
    "2. Categorical columns need to be seperated (employment_type, industry, function, department).\n",
    "3. Salary range needs to be seperate into minimum and maximum.\n",
    "4. Location needs to be seperated.\n",
    "5. Natural Language processing for description and requirements columns."
   ]
  },
  {
   "cell_type": "markdown",
   "id": "bf2c7639",
   "metadata": {},
   "source": [
    "<h3><font color=slateblue> Get a sample of the data </font></h3>"
   ]
  },
  {
   "cell_type": "code",
   "execution_count": 39,
   "id": "b0c0c904",
   "metadata": {},
   "outputs": [
    {
     "data": {
      "text/html": [
       "<div>\n",
       "<style scoped>\n",
       "    .dataframe tbody tr th:only-of-type {\n",
       "        vertical-align: middle;\n",
       "    }\n",
       "\n",
       "    .dataframe tbody tr th {\n",
       "        vertical-align: top;\n",
       "    }\n",
       "\n",
       "    .dataframe thead th {\n",
       "        text-align: right;\n",
       "    }\n",
       "</style>\n",
       "<table border=\"1\" class=\"dataframe\">\n",
       "  <thead>\n",
       "    <tr style=\"text-align: right;\">\n",
       "      <th></th>\n",
       "      <th>job_id</th>\n",
       "      <th>title</th>\n",
       "      <th>location</th>\n",
       "      <th>department</th>\n",
       "      <th>salary_range</th>\n",
       "      <th>company_profile</th>\n",
       "      <th>description</th>\n",
       "      <th>requirements</th>\n",
       "      <th>benefits</th>\n",
       "      <th>telecommuting</th>\n",
       "      <th>has_company_logo</th>\n",
       "      <th>has_questions</th>\n",
       "      <th>employment_type</th>\n",
       "      <th>required_experience</th>\n",
       "      <th>required_education</th>\n",
       "      <th>industry</th>\n",
       "      <th>function</th>\n",
       "      <th>fraudulent</th>\n",
       "    </tr>\n",
       "  </thead>\n",
       "  <tbody>\n",
       "    <tr>\n",
       "      <th>5533</th>\n",
       "      <td>5534</td>\n",
       "      <td>Human Resources Partner</td>\n",
       "      <td>US, CA, Redlands</td>\n",
       "      <td>HR</td>\n",
       "      <td>NaN</td>\n",
       "      <td>Our passion for improving quality of life thro...</td>\n",
       "      <td>Join a growing team of talented individuals an...</td>\n",
       "      <td>EDUCATION: Bachelor’s in human resources, busi...</td>\n",
       "      <td>Our culture is anything but corporate—we have ...</td>\n",
       "      <td>0</td>\n",
       "      <td>1</td>\n",
       "      <td>0</td>\n",
       "      <td>Full-time</td>\n",
       "      <td>Mid-Senior level</td>\n",
       "      <td>Bachelor's Degree</td>\n",
       "      <td>Human Resources</td>\n",
       "      <td>Human Resources</td>\n",
       "      <td>0</td>\n",
       "    </tr>\n",
       "    <tr>\n",
       "      <th>8464</th>\n",
       "      <td>8465</td>\n",
       "      <td>Would you like to join our IT Team?</td>\n",
       "      <td>RO, ,</td>\n",
       "      <td>NaN</td>\n",
       "      <td>NaN</td>\n",
       "      <td>Skyconsult is a global consulting company with...</td>\n",
       "      <td>If you are IT&amp;amp;C passionate, we would like ...</td>\n",
       "      <td>Requirements:Superior studies in Information T...</td>\n",
       "      <td>You will work within a company that provides a...</td>\n",
       "      <td>0</td>\n",
       "      <td>1</td>\n",
       "      <td>0</td>\n",
       "      <td>Full-time</td>\n",
       "      <td>Internship</td>\n",
       "      <td>Bachelor's Degree</td>\n",
       "      <td>Information Technology and Services</td>\n",
       "      <td>NaN</td>\n",
       "      <td>0</td>\n",
       "    </tr>\n",
       "    <tr>\n",
       "      <th>6644</th>\n",
       "      <td>6645</td>\n",
       "      <td>Digital Project Manager</td>\n",
       "      <td>GB, ESX, Hastings</td>\n",
       "      <td>NaN</td>\n",
       "      <td>NaN</td>\n",
       "      <td>NaN</td>\n",
       "      <td>We are looking for someone to join our busy an...</td>\n",
       "      <td>We would like you to have been project managem...</td>\n",
       "      <td>Dependent on experience (starting from £22,000...</td>\n",
       "      <td>0</td>\n",
       "      <td>0</td>\n",
       "      <td>0</td>\n",
       "      <td>Full-time</td>\n",
       "      <td>NaN</td>\n",
       "      <td>NaN</td>\n",
       "      <td>Information Technology and Services</td>\n",
       "      <td>Information Technology</td>\n",
       "      <td>0</td>\n",
       "    </tr>\n",
       "    <tr>\n",
       "      <th>1065</th>\n",
       "      <td>1066</td>\n",
       "      <td>Trades and Labour Construction Recruitment Con...</td>\n",
       "      <td>GB, ,</td>\n",
       "      <td>NaN</td>\n",
       "      <td>NaN</td>\n",
       "      <td>Recruitment to Recruitment specialists, coveri...</td>\n",
       "      <td>My client is looking for an experienced, 12 mo...</td>\n",
       "      <td>NaN</td>\n",
       "      <td>NaN</td>\n",
       "      <td>0</td>\n",
       "      <td>1</td>\n",
       "      <td>0</td>\n",
       "      <td>NaN</td>\n",
       "      <td>NaN</td>\n",
       "      <td>NaN</td>\n",
       "      <td>NaN</td>\n",
       "      <td>NaN</td>\n",
       "      <td>0</td>\n",
       "    </tr>\n",
       "    <tr>\n",
       "      <th>16607</th>\n",
       "      <td>16608</td>\n",
       "      <td>CC&amp;B Consultant</td>\n",
       "      <td>US, OH, Cincinnati</td>\n",
       "      <td>NaN</td>\n",
       "      <td>NaN</td>\n",
       "      <td>e-Solutions Inc. is a talent-driven consulting...</td>\n",
       "      <td>Title                       : CC&amp;amp;B Consult...</td>\n",
       "      <td>NOTE.. Please mention the job number for which...</td>\n",
       "      <td>NaN</td>\n",
       "      <td>0</td>\n",
       "      <td>1</td>\n",
       "      <td>0</td>\n",
       "      <td>Full-time</td>\n",
       "      <td>NaN</td>\n",
       "      <td>NaN</td>\n",
       "      <td>Information Technology and Services</td>\n",
       "      <td>NaN</td>\n",
       "      <td>0</td>\n",
       "    </tr>\n",
       "  </tbody>\n",
       "</table>\n",
       "</div>"
      ],
      "text/plain": [
       "       job_id                                              title  \\\n",
       "5533     5534                            Human Resources Partner   \n",
       "8464     8465                Would you like to join our IT Team?   \n",
       "6644     6645                            Digital Project Manager   \n",
       "1065     1066  Trades and Labour Construction Recruitment Con...   \n",
       "16607   16608                                    CC&B Consultant   \n",
       "\n",
       "                 location department salary_range  \\\n",
       "5533     US, CA, Redlands         HR          NaN   \n",
       "8464               RO, ,         NaN          NaN   \n",
       "6644    GB, ESX, Hastings        NaN          NaN   \n",
       "1065               GB, ,         NaN          NaN   \n",
       "16607  US, OH, Cincinnati        NaN          NaN   \n",
       "\n",
       "                                         company_profile  \\\n",
       "5533   Our passion for improving quality of life thro...   \n",
       "8464   Skyconsult is a global consulting company with...   \n",
       "6644                                                 NaN   \n",
       "1065   Recruitment to Recruitment specialists, coveri...   \n",
       "16607  e-Solutions Inc. is a talent-driven consulting...   \n",
       "\n",
       "                                             description  \\\n",
       "5533   Join a growing team of talented individuals an...   \n",
       "8464   If you are IT&amp;C passionate, we would like ...   \n",
       "6644   We are looking for someone to join our busy an...   \n",
       "1065   My client is looking for an experienced, 12 mo...   \n",
       "16607  Title                       : CC&amp;B Consult...   \n",
       "\n",
       "                                            requirements  \\\n",
       "5533   EDUCATION: Bachelor’s in human resources, busi...   \n",
       "8464   Requirements:Superior studies in Information T...   \n",
       "6644   We would like you to have been project managem...   \n",
       "1065                                                 NaN   \n",
       "16607  NOTE.. Please mention the job number for which...   \n",
       "\n",
       "                                                benefits  telecommuting  \\\n",
       "5533   Our culture is anything but corporate—we have ...              0   \n",
       "8464   You will work within a company that provides a...              0   \n",
       "6644   Dependent on experience (starting from £22,000...              0   \n",
       "1065                                                 NaN              0   \n",
       "16607                                                NaN              0   \n",
       "\n",
       "       has_company_logo  has_questions employment_type required_experience  \\\n",
       "5533                  1              0       Full-time    Mid-Senior level   \n",
       "8464                  1              0       Full-time          Internship   \n",
       "6644                  0              0       Full-time                 NaN   \n",
       "1065                  1              0             NaN                 NaN   \n",
       "16607                 1              0       Full-time                 NaN   \n",
       "\n",
       "      required_education                             industry  \\\n",
       "5533   Bachelor's Degree                      Human Resources   \n",
       "8464   Bachelor's Degree  Information Technology and Services   \n",
       "6644                 NaN  Information Technology and Services   \n",
       "1065                 NaN                                  NaN   \n",
       "16607                NaN  Information Technology and Services   \n",
       "\n",
       "                     function  fraudulent  \n",
       "5533          Human Resources           0  \n",
       "8464                      NaN           0  \n",
       "6644   Information Technology           0  \n",
       "1065                      NaN           0  \n",
       "16607                     NaN           0  "
      ]
     },
     "execution_count": 39,
     "metadata": {},
     "output_type": "execute_result"
    }
   ],
   "source": [
    "df.sample(5)"
   ]
  },
  {
   "cell_type": "markdown",
   "id": "d40bc885",
   "metadata": {},
   "source": [
    "<h3><font color=slateblue> Type of columns </font></h3>"
   ]
  },
  {
   "cell_type": "code",
   "execution_count": 40,
   "id": "b2771dac",
   "metadata": {},
   "outputs": [
    {
     "data": {
      "text/plain": [
       "job_id                  int64\n",
       "title                  object\n",
       "location               object\n",
       "department             object\n",
       "salary_range           object\n",
       "company_profile        object\n",
       "description            object\n",
       "requirements           object\n",
       "benefits               object\n",
       "telecommuting           int64\n",
       "has_company_logo        int64\n",
       "has_questions           int64\n",
       "employment_type        object\n",
       "required_experience    object\n",
       "required_education     object\n",
       "industry               object\n",
       "function               object\n",
       "fraudulent              int64\n",
       "dtype: object"
      ]
     },
     "execution_count": 40,
     "metadata": {},
     "output_type": "execute_result"
    }
   ],
   "source": [
    "df.dtypes"
   ]
  },
  {
   "cell_type": "markdown",
   "id": "777a094a",
   "metadata": {},
   "source": [
    "<h3><font color=slateblue> Check mising values </font></h3>"
   ]
  },
  {
   "cell_type": "code",
   "execution_count": 41,
   "id": "dfe43141",
   "metadata": {},
   "outputs": [
    {
     "data": {
      "text/plain": [
       "job_id                     0\n",
       "title                      0\n",
       "location                 346\n",
       "department             11547\n",
       "salary_range           15012\n",
       "company_profile         3308\n",
       "description                1\n",
       "requirements            2695\n",
       "benefits                7210\n",
       "telecommuting              0\n",
       "has_company_logo           0\n",
       "has_questions              0\n",
       "employment_type         3471\n",
       "required_experience     7050\n",
       "required_education      8105\n",
       "industry                4903\n",
       "function                6455\n",
       "fraudulent                 0\n",
       "dtype: int64"
      ]
     },
     "execution_count": 41,
     "metadata": {},
     "output_type": "execute_result"
    }
   ],
   "source": [
    "df.isna().sum()"
   ]
  },
  {
   "cell_type": "markdown",
   "id": "800fd421",
   "metadata": {},
   "source": [
    "<h3><font color=slateblue> Seperate location </font></h3>"
   ]
  },
  {
   "cell_type": "code",
   "execution_count": 42,
   "id": "be001ab2",
   "metadata": {},
   "outputs": [],
   "source": [
    "df[[\"country\", \"state\", \"city\"]] = df[\"location\"].str.split(\",\", n=2, expand=True)"
   ]
  },
  {
   "cell_type": "markdown",
   "id": "e0038427",
   "metadata": {},
   "source": [
    "<h3><font color=slateblue> Get a sample of the data </font></h3>"
   ]
  },
  {
   "cell_type": "code",
   "execution_count": 43,
   "id": "a71b7f44",
   "metadata": {},
   "outputs": [
    {
     "data": {
      "text/html": [
       "<div>\n",
       "<style scoped>\n",
       "    .dataframe tbody tr th:only-of-type {\n",
       "        vertical-align: middle;\n",
       "    }\n",
       "\n",
       "    .dataframe tbody tr th {\n",
       "        vertical-align: top;\n",
       "    }\n",
       "\n",
       "    .dataframe thead th {\n",
       "        text-align: right;\n",
       "    }\n",
       "</style>\n",
       "<table border=\"1\" class=\"dataframe\">\n",
       "  <thead>\n",
       "    <tr style=\"text-align: right;\">\n",
       "      <th></th>\n",
       "      <th>job_id</th>\n",
       "      <th>title</th>\n",
       "      <th>location</th>\n",
       "      <th>department</th>\n",
       "      <th>salary_range</th>\n",
       "      <th>company_profile</th>\n",
       "      <th>description</th>\n",
       "      <th>requirements</th>\n",
       "      <th>benefits</th>\n",
       "      <th>telecommuting</th>\n",
       "      <th>...</th>\n",
       "      <th>has_questions</th>\n",
       "      <th>employment_type</th>\n",
       "      <th>required_experience</th>\n",
       "      <th>required_education</th>\n",
       "      <th>industry</th>\n",
       "      <th>function</th>\n",
       "      <th>fraudulent</th>\n",
       "      <th>country</th>\n",
       "      <th>state</th>\n",
       "      <th>city</th>\n",
       "    </tr>\n",
       "  </thead>\n",
       "  <tbody>\n",
       "    <tr>\n",
       "      <th>14303</th>\n",
       "      <td>14304</td>\n",
       "      <td>Licensed Practical Nurse Part-time (NW Georgia...</td>\n",
       "      <td>US, GA, Ringgold</td>\n",
       "      <td>NaN</td>\n",
       "      <td>NaN</td>\n",
       "      <td>Crossroads Treatment Centers is a nationally-a...</td>\n",
       "      <td>Crossroads Treatment Centers in Ringgold, GA i...</td>\n",
       "      <td>Qualifications include: A positive attitude an...</td>\n",
       "      <td>NaN</td>\n",
       "      <td>0</td>\n",
       "      <td>...</td>\n",
       "      <td>1</td>\n",
       "      <td>Part-time</td>\n",
       "      <td>Associate</td>\n",
       "      <td>Certification</td>\n",
       "      <td>Medical Practice</td>\n",
       "      <td>Health Care Provider</td>\n",
       "      <td>0</td>\n",
       "      <td>US</td>\n",
       "      <td>GA</td>\n",
       "      <td>Ringgold</td>\n",
       "    </tr>\n",
       "    <tr>\n",
       "      <th>2921</th>\n",
       "      <td>2922</td>\n",
       "      <td>Church Administrator/ Secretary</td>\n",
       "      <td>US, OH, Cincinnati</td>\n",
       "      <td>NaN</td>\n",
       "      <td>NaN</td>\n",
       "      <td>NaN</td>\n",
       "      <td>Description of the Church Administrative Assis...</td>\n",
       "      <td>Qualifications of the Church Administrative As...</td>\n",
       "      <td>Competitive weekly pay and full benefits after...</td>\n",
       "      <td>0</td>\n",
       "      <td>...</td>\n",
       "      <td>0</td>\n",
       "      <td>NaN</td>\n",
       "      <td>NaN</td>\n",
       "      <td>NaN</td>\n",
       "      <td>NaN</td>\n",
       "      <td>NaN</td>\n",
       "      <td>1</td>\n",
       "      <td>US</td>\n",
       "      <td>OH</td>\n",
       "      <td>Cincinnati</td>\n",
       "    </tr>\n",
       "    <tr>\n",
       "      <th>13925</th>\n",
       "      <td>13926</td>\n",
       "      <td>Programmatic Media Manager</td>\n",
       "      <td>US, WA, Seattle</td>\n",
       "      <td>Media</td>\n",
       "      <td>NaN</td>\n",
       "      <td>Since 1978Our goal has been to create engaging...</td>\n",
       "      <td>DETAILS•Location: Drake Cooper’s Seattle Offic...</td>\n",
       "      <td>NaN</td>\n",
       "      <td>Job Type: Full time, 20 - 30 hours per weekPay...</td>\n",
       "      <td>0</td>\n",
       "      <td>...</td>\n",
       "      <td>0</td>\n",
       "      <td>Other</td>\n",
       "      <td>NaN</td>\n",
       "      <td>Unspecified</td>\n",
       "      <td>Marketing and Advertising</td>\n",
       "      <td>Advertising</td>\n",
       "      <td>0</td>\n",
       "      <td>US</td>\n",
       "      <td>WA</td>\n",
       "      <td>Seattle</td>\n",
       "    </tr>\n",
       "    <tr>\n",
       "      <th>13054</th>\n",
       "      <td>13055</td>\n",
       "      <td>Customer Service Associate - Part Time</td>\n",
       "      <td>US, CA, Milpitas</td>\n",
       "      <td>NaN</td>\n",
       "      <td>NaN</td>\n",
       "      <td>Novitex Enterprise Solutions, formerly Pitney ...</td>\n",
       "      <td>The Customer Service Associate will be based i...</td>\n",
       "      <td>Minimum Requirements:Minimum of 6 months custo...</td>\n",
       "      <td>NaN</td>\n",
       "      <td>0</td>\n",
       "      <td>...</td>\n",
       "      <td>0</td>\n",
       "      <td>Part-time</td>\n",
       "      <td>Entry level</td>\n",
       "      <td>High School or equivalent</td>\n",
       "      <td>Consumer Services</td>\n",
       "      <td>Administrative</td>\n",
       "      <td>0</td>\n",
       "      <td>US</td>\n",
       "      <td>CA</td>\n",
       "      <td>Milpitas</td>\n",
       "    </tr>\n",
       "    <tr>\n",
       "      <th>11013</th>\n",
       "      <td>11014</td>\n",
       "      <td>LDAP Admin</td>\n",
       "      <td>US, ,</td>\n",
       "      <td>NaN</td>\n",
       "      <td>NaN</td>\n",
       "      <td>NaN</td>\n",
       "      <td>a)       Typical Duties:  Install, configure a...</td>\n",
       "      <td>a)       Required Skills and/or Product Knowle...</td>\n",
       "      <td>NaN</td>\n",
       "      <td>0</td>\n",
       "      <td>...</td>\n",
       "      <td>0</td>\n",
       "      <td>Contract</td>\n",
       "      <td>NaN</td>\n",
       "      <td>NaN</td>\n",
       "      <td>Computer &amp; Network Security</td>\n",
       "      <td>NaN</td>\n",
       "      <td>0</td>\n",
       "      <td>US</td>\n",
       "      <td></td>\n",
       "      <td></td>\n",
       "    </tr>\n",
       "  </tbody>\n",
       "</table>\n",
       "<p>5 rows × 21 columns</p>\n",
       "</div>"
      ],
      "text/plain": [
       "       job_id                                              title  \\\n",
       "14303   14304  Licensed Practical Nurse Part-time (NW Georgia...   \n",
       "2921     2922                    Church Administrator/ Secretary   \n",
       "13925   13926                         Programmatic Media Manager   \n",
       "13054   13055            Customer Service Associate - Part Time    \n",
       "11013   11014                                         LDAP Admin   \n",
       "\n",
       "                 location department salary_range  \\\n",
       "14303    US, GA, Ringgold        NaN          NaN   \n",
       "2921   US, OH, Cincinnati        NaN          NaN   \n",
       "13925     US, WA, Seattle      Media          NaN   \n",
       "13054    US, CA, Milpitas        NaN          NaN   \n",
       "11013              US, ,         NaN          NaN   \n",
       "\n",
       "                                         company_profile  \\\n",
       "14303  Crossroads Treatment Centers is a nationally-a...   \n",
       "2921                                                 NaN   \n",
       "13925  Since 1978Our goal has been to create engaging...   \n",
       "13054  Novitex Enterprise Solutions, formerly Pitney ...   \n",
       "11013                                                NaN   \n",
       "\n",
       "                                             description  \\\n",
       "14303  Crossroads Treatment Centers in Ringgold, GA i...   \n",
       "2921   Description of the Church Administrative Assis...   \n",
       "13925  DETAILS•Location: Drake Cooper’s Seattle Offic...   \n",
       "13054  The Customer Service Associate will be based i...   \n",
       "11013  a)       Typical Duties:  Install, configure a...   \n",
       "\n",
       "                                            requirements  \\\n",
       "14303  Qualifications include: A positive attitude an...   \n",
       "2921   Qualifications of the Church Administrative As...   \n",
       "13925                                                NaN   \n",
       "13054  Minimum Requirements:Minimum of 6 months custo...   \n",
       "11013  a)       Required Skills and/or Product Knowle...   \n",
       "\n",
       "                                                benefits  telecommuting  ...  \\\n",
       "14303                                                NaN              0  ...   \n",
       "2921   Competitive weekly pay and full benefits after...              0  ...   \n",
       "13925  Job Type: Full time, 20 - 30 hours per weekPay...              0  ...   \n",
       "13054                                                NaN              0  ...   \n",
       "11013                                                NaN              0  ...   \n",
       "\n",
       "       has_questions  employment_type required_experience  \\\n",
       "14303              1        Part-time           Associate   \n",
       "2921               0              NaN                 NaN   \n",
       "13925              0            Other                 NaN   \n",
       "13054              0        Part-time         Entry level   \n",
       "11013              0         Contract                 NaN   \n",
       "\n",
       "              required_education                     industry  \\\n",
       "14303              Certification             Medical Practice   \n",
       "2921                         NaN                          NaN   \n",
       "13925                Unspecified    Marketing and Advertising   \n",
       "13054  High School or equivalent            Consumer Services   \n",
       "11013                        NaN  Computer & Network Security   \n",
       "\n",
       "                   function fraudulent  country state         city  \n",
       "14303  Health Care Provider          0       US    GA     Ringgold  \n",
       "2921                    NaN          1       US    OH   Cincinnati  \n",
       "13925           Advertising          0       US    WA      Seattle  \n",
       "13054        Administrative          0       US    CA     Milpitas  \n",
       "11013                   NaN          0       US                     \n",
       "\n",
       "[5 rows x 21 columns]"
      ]
     },
     "execution_count": 43,
     "metadata": {},
     "output_type": "execute_result"
    }
   ],
   "source": [
    "df.sample(5)"
   ]
  },
  {
   "cell_type": "markdown",
   "id": "06da2b1a",
   "metadata": {},
   "source": [
    "<h3><font color=slateblue> Seperate salary range into minimum and maximum and Cast type to integer</font></h3>"
   ]
  },
  {
   "cell_type": "code",
   "execution_count": 44,
   "id": "f1f9d783",
   "metadata": {},
   "outputs": [],
   "source": [
    "df[[\"minimum_salary\", \"maximum_salary\"]] = df[\"salary_range\"].str.split(\"-\", n=1, expand=True)"
   ]
  },
  {
   "cell_type": "markdown",
   "id": "01a817ab",
   "metadata": {},
   "source": [
    "<h3><font color=slateblue> Get a sample of the data </font></h3>"
   ]
  },
  {
   "cell_type": "code",
   "execution_count": 45,
   "id": "9ba53e6d",
   "metadata": {},
   "outputs": [
    {
     "data": {
      "text/html": [
       "<div>\n",
       "<style scoped>\n",
       "    .dataframe tbody tr th:only-of-type {\n",
       "        vertical-align: middle;\n",
       "    }\n",
       "\n",
       "    .dataframe tbody tr th {\n",
       "        vertical-align: top;\n",
       "    }\n",
       "\n",
       "    .dataframe thead th {\n",
       "        text-align: right;\n",
       "    }\n",
       "</style>\n",
       "<table border=\"1\" class=\"dataframe\">\n",
       "  <thead>\n",
       "    <tr style=\"text-align: right;\">\n",
       "      <th></th>\n",
       "      <th>job_id</th>\n",
       "      <th>title</th>\n",
       "      <th>location</th>\n",
       "      <th>department</th>\n",
       "      <th>salary_range</th>\n",
       "      <th>company_profile</th>\n",
       "      <th>description</th>\n",
       "      <th>requirements</th>\n",
       "      <th>benefits</th>\n",
       "      <th>telecommuting</th>\n",
       "      <th>...</th>\n",
       "      <th>required_experience</th>\n",
       "      <th>required_education</th>\n",
       "      <th>industry</th>\n",
       "      <th>function</th>\n",
       "      <th>fraudulent</th>\n",
       "      <th>country</th>\n",
       "      <th>state</th>\n",
       "      <th>city</th>\n",
       "      <th>minimum_salary</th>\n",
       "      <th>maximum_salary</th>\n",
       "    </tr>\n",
       "  </thead>\n",
       "  <tbody>\n",
       "    <tr>\n",
       "      <th>16733</th>\n",
       "      <td>16734</td>\n",
       "      <td>Customer Success Engineer</td>\n",
       "      <td>US, CA, San Francisco</td>\n",
       "      <td>NaN</td>\n",
       "      <td>NaN</td>\n",
       "      <td>Runscope is building tools for developers work...</td>\n",
       "      <td>We are looking for experienced a Customer Succ...</td>\n",
       "      <td>Strong written and verbal communication skills...</td>\n",
       "      <td>Be a part of an experienced team who have work...</td>\n",
       "      <td>0</td>\n",
       "      <td>...</td>\n",
       "      <td>Associate</td>\n",
       "      <td>NaN</td>\n",
       "      <td>Computer Software</td>\n",
       "      <td>NaN</td>\n",
       "      <td>0</td>\n",
       "      <td>US</td>\n",
       "      <td>CA</td>\n",
       "      <td>San Francisco</td>\n",
       "      <td>NaN</td>\n",
       "      <td>NaN</td>\n",
       "    </tr>\n",
       "    <tr>\n",
       "      <th>17517</th>\n",
       "      <td>17518</td>\n",
       "      <td>Cash Job Opportunity To Immediate Start.</td>\n",
       "      <td>AU, NSW, Sydney</td>\n",
       "      <td>NaN</td>\n",
       "      <td>NaN</td>\n",
       "      <td>NaN</td>\n",
       "      <td>Cash Job Opportunity To Immediate Start. No Ex...</td>\n",
       "      <td>NaN</td>\n",
       "      <td>NaN</td>\n",
       "      <td>0</td>\n",
       "      <td>...</td>\n",
       "      <td>NaN</td>\n",
       "      <td>NaN</td>\n",
       "      <td>NaN</td>\n",
       "      <td>NaN</td>\n",
       "      <td>1</td>\n",
       "      <td>AU</td>\n",
       "      <td>NSW</td>\n",
       "      <td>Sydney</td>\n",
       "      <td>NaN</td>\n",
       "      <td>NaN</td>\n",
       "    </tr>\n",
       "    <tr>\n",
       "      <th>7045</th>\n",
       "      <td>7046</td>\n",
       "      <td>Reservoir Engineer, A&amp;D Advisor</td>\n",
       "      <td>US, OK, Oklahoma City</td>\n",
       "      <td>Acquisitions and Divesments</td>\n",
       "      <td>NaN</td>\n",
       "      <td>Valor Services provides Workforce Solutions th...</td>\n",
       "      <td>To support planned growth a leading E&amp;amp;P is...</td>\n",
       "      <td>Ideal candidate will have the following experi...</td>\n",
       "      <td>Please contact me directly to have a confident...</td>\n",
       "      <td>0</td>\n",
       "      <td>...</td>\n",
       "      <td>Director</td>\n",
       "      <td>Master's Degree</td>\n",
       "      <td>Oil &amp; Energy</td>\n",
       "      <td>Finance</td>\n",
       "      <td>0</td>\n",
       "      <td>US</td>\n",
       "      <td>OK</td>\n",
       "      <td>Oklahoma City</td>\n",
       "      <td>NaN</td>\n",
       "      <td>NaN</td>\n",
       "    </tr>\n",
       "    <tr>\n",
       "      <th>15709</th>\n",
       "      <td>15710</td>\n",
       "      <td>Frontend developer, Minsk</td>\n",
       "      <td>BY, , Minsk</td>\n",
       "      <td>NaN</td>\n",
       "      <td>NaN</td>\n",
       "      <td>NaN</td>\n",
       "      <td>Adform is succesful European display ad tech c...</td>\n",
       "      <td>Do you have these skills? Deep understanding o...</td>\n",
       "      <td>Creative, challenging and fast growing  produ...</td>\n",
       "      <td>0</td>\n",
       "      <td>...</td>\n",
       "      <td>NaN</td>\n",
       "      <td>NaN</td>\n",
       "      <td>NaN</td>\n",
       "      <td>NaN</td>\n",
       "      <td>0</td>\n",
       "      <td>BY</td>\n",
       "      <td></td>\n",
       "      <td>Minsk</td>\n",
       "      <td>NaN</td>\n",
       "      <td>NaN</td>\n",
       "    </tr>\n",
       "    <tr>\n",
       "      <th>11403</th>\n",
       "      <td>11404</td>\n",
       "      <td>Contract SilverStripe Developer</td>\n",
       "      <td>NZ, , Wellington</td>\n",
       "      <td>NaN</td>\n",
       "      <td>NaN</td>\n",
       "      <td>SilverStripe CMS &amp;amp; Framework is an open so...</td>\n",
       "      <td>We are looking for a contract SilverStripe dev...</td>\n",
       "      <td>NaN</td>\n",
       "      <td>NaN</td>\n",
       "      <td>0</td>\n",
       "      <td>...</td>\n",
       "      <td>NaN</td>\n",
       "      <td>NaN</td>\n",
       "      <td>NaN</td>\n",
       "      <td>NaN</td>\n",
       "      <td>0</td>\n",
       "      <td>NZ</td>\n",
       "      <td></td>\n",
       "      <td>Wellington</td>\n",
       "      <td>NaN</td>\n",
       "      <td>NaN</td>\n",
       "    </tr>\n",
       "  </tbody>\n",
       "</table>\n",
       "<p>5 rows × 23 columns</p>\n",
       "</div>"
      ],
      "text/plain": [
       "       job_id                                     title  \\\n",
       "16733   16734                 Customer Success Engineer   \n",
       "17517   17518  Cash Job Opportunity To Immediate Start.   \n",
       "7045     7046           Reservoir Engineer, A&D Advisor   \n",
       "15709   15710                 Frontend developer, Minsk   \n",
       "11403   11404           Contract SilverStripe Developer   \n",
       "\n",
       "                    location                   department salary_range  \\\n",
       "16733  US, CA, San Francisco                          NaN          NaN   \n",
       "17517        AU, NSW, Sydney                          NaN          NaN   \n",
       "7045   US, OK, Oklahoma City  Acquisitions and Divesments          NaN   \n",
       "15709            BY, , Minsk                          NaN          NaN   \n",
       "11403       NZ, , Wellington                          NaN          NaN   \n",
       "\n",
       "                                         company_profile  \\\n",
       "16733  Runscope is building tools for developers work...   \n",
       "17517                                                NaN   \n",
       "7045   Valor Services provides Workforce Solutions th...   \n",
       "15709                                                NaN   \n",
       "11403  SilverStripe CMS &amp; Framework is an open so...   \n",
       "\n",
       "                                             description  \\\n",
       "16733  We are looking for experienced a Customer Succ...   \n",
       "17517  Cash Job Opportunity To Immediate Start. No Ex...   \n",
       "7045   To support planned growth a leading E&amp;P is...   \n",
       "15709  Adform is succesful European display ad tech c...   \n",
       "11403  We are looking for a contract SilverStripe dev...   \n",
       "\n",
       "                                            requirements  \\\n",
       "16733  Strong written and verbal communication skills...   \n",
       "17517                                                NaN   \n",
       "7045   Ideal candidate will have the following experi...   \n",
       "15709  Do you have these skills? Deep understanding o...   \n",
       "11403                                                NaN   \n",
       "\n",
       "                                                benefits  telecommuting  ...  \\\n",
       "16733  Be a part of an experienced team who have work...              0  ...   \n",
       "17517                                                NaN              0  ...   \n",
       "7045   Please contact me directly to have a confident...              0  ...   \n",
       "15709   Creative, challenging and fast growing  produ...              0  ...   \n",
       "11403                                                NaN              0  ...   \n",
       "\n",
       "       required_experience  required_education           industry function  \\\n",
       "16733            Associate                 NaN  Computer Software      NaN   \n",
       "17517                  NaN                 NaN                NaN      NaN   \n",
       "7045              Director     Master's Degree       Oil & Energy  Finance   \n",
       "15709                  NaN                 NaN                NaN      NaN   \n",
       "11403                  NaN                 NaN                NaN      NaN   \n",
       "\n",
       "      fraudulent country state            city minimum_salary maximum_salary  \n",
       "16733          0      US    CA   San Francisco            NaN            NaN  \n",
       "17517          1      AU   NSW          Sydney            NaN            NaN  \n",
       "7045           0      US    OK   Oklahoma City            NaN            NaN  \n",
       "15709          0      BY                 Minsk            NaN            NaN  \n",
       "11403          0      NZ            Wellington            NaN            NaN  \n",
       "\n",
       "[5 rows x 23 columns]"
      ]
     },
     "execution_count": 45,
     "metadata": {},
     "output_type": "execute_result"
    }
   ],
   "source": [
    "df.sample(5)"
   ]
  },
  {
   "cell_type": "markdown",
   "id": "42fea492",
   "metadata": {},
   "source": [
    "<h3><font color=slateblue> Fill Minimum and Maximum salary columns and Convert them to integers </font></h3>"
   ]
  },
  {
   "cell_type": "code",
   "execution_count": 46,
   "id": "413b966e",
   "metadata": {},
   "outputs": [],
   "source": [
    "# Fill Minimum and Maximum salary columns\n",
    "df[\"minimum_salary\"].fillna(-1, inplace=True)\n",
    "df[\"maximum_salary\"].fillna(-1, inplace=True)\n",
    "\n",
    "# Fill in random text data in salary columns\n",
    "df.loc[df['minimum_salary']  == \"Oct\", \"minimum_salary\"] = -1\n",
    "df.loc[df['minimum_salary']  == \"Jun\", \"minimum_salary\"] = -1\n",
    "df.loc[df['minimum_salary']  == \"Dec\", \"minimum_salary\"] = -1\n",
    "\n",
    "df.loc[df['maximum_salary']  == \"Dec\", \"maximum_salary\"] = -1\n",
    "df.loc[df['maximum_salary']  == \"Apr\", \"maximum_salary\"] = -1\n",
    "df.loc[df['maximum_salary']  == \"Sep\", \"maximum_salary\"] = -1\n",
    "df.loc[df['maximum_salary']  == \"Jun\", \"maximum_salary\"] = -1\n",
    "df.loc[df['maximum_salary']  == \"Oct\", \"maximum_salary\"] = -1\n",
    "df.loc[df['maximum_salary']  == \"Nov\", \"maximum_salary\"] = -1\n",
    "\n",
    "# Convert salary columns to integers\n",
    "df[\"minimum_salary\"] = df[\"minimum_salary\"].astype(int)\n",
    "df[\"maximum_salary\"] = df[\"maximum_salary\"].astype(int)"
   ]
  },
  {
   "cell_type": "markdown",
   "id": "b074bc69",
   "metadata": {},
   "source": [
    "<h3><font color=slateblue> View types </font></h3>"
   ]
  },
  {
   "cell_type": "code",
   "execution_count": 47,
   "id": "f54d073d",
   "metadata": {},
   "outputs": [
    {
     "data": {
      "text/plain": [
       "job_id                  int64\n",
       "title                  object\n",
       "location               object\n",
       "department             object\n",
       "salary_range           object\n",
       "company_profile        object\n",
       "description            object\n",
       "requirements           object\n",
       "benefits               object\n",
       "telecommuting           int64\n",
       "has_company_logo        int64\n",
       "has_questions           int64\n",
       "employment_type        object\n",
       "required_experience    object\n",
       "required_education     object\n",
       "industry               object\n",
       "function               object\n",
       "fraudulent              int64\n",
       "country                object\n",
       "state                  object\n",
       "city                   object\n",
       "minimum_salary          int32\n",
       "maximum_salary          int32\n",
       "dtype: object"
      ]
     },
     "execution_count": 47,
     "metadata": {},
     "output_type": "execute_result"
    }
   ],
   "source": [
    "df.dtypes"
   ]
  },
  {
   "cell_type": "markdown",
   "id": "e34da3e7",
   "metadata": {},
   "source": [
    "<h3><font color=slateblue> Drop text columns and columns that were seperated for now </font></h3>"
   ]
  },
  {
   "cell_type": "code",
   "execution_count": 48,
   "id": "d19e6e03",
   "metadata": {},
   "outputs": [],
   "source": [
    "df.drop([\"company_profile\", \"requirements\", \"benefits\", \"description\", \"salary_range\", \"job_id\", \"title\", \"location\"], axis=1, inplace=True)"
   ]
  },
  {
   "cell_type": "markdown",
   "id": "a7f286bc",
   "metadata": {},
   "source": [
    "<h3><font color=slateblue> Get columns </font></h3>"
   ]
  },
  {
   "cell_type": "code",
   "execution_count": 49,
   "id": "797729ca",
   "metadata": {},
   "outputs": [
    {
     "data": {
      "text/plain": [
       "Index(['department', 'telecommuting', 'has_company_logo', 'has_questions',\n",
       "       'employment_type', 'required_experience', 'required_education',\n",
       "       'industry', 'function', 'fraudulent', 'country', 'state', 'city',\n",
       "       'minimum_salary', 'maximum_salary'],\n",
       "      dtype='object')"
      ]
     },
     "execution_count": 49,
     "metadata": {},
     "output_type": "execute_result"
    }
   ],
   "source": [
    "df.columns"
   ]
  },
  {
   "cell_type": "markdown",
   "id": "69298a7c",
   "metadata": {},
   "source": [
    "<h3><font color=slateblue> Get fraudulent jobs per country </font></h3>"
   ]
  },
  {
   "cell_type": "markdown",
   "id": "1cf99ba4",
   "metadata": {},
   "source": [
    "<h4><font color=darkslategray>Number of job postings per country</font></h4>"
   ]
  },
  {
   "cell_type": "code",
   "execution_count": 50,
   "id": "bb2e2a45",
   "metadata": {},
   "outputs": [
    {
     "data": {
      "text/plain": [
       "US    10656\n",
       "GB     2384\n",
       "GR      940\n",
       "CA      457\n",
       "DE      383\n",
       "      ...  \n",
       "SI        1\n",
       "PE        1\n",
       "SD        1\n",
       "UG        1\n",
       "KH        1\n",
       "Name: country, Length: 90, dtype: int64"
      ]
     },
     "execution_count": 50,
     "metadata": {},
     "output_type": "execute_result"
    }
   ],
   "source": [
    "df.country.value_counts()"
   ]
  },
  {
   "cell_type": "markdown",
   "id": "dc000ec5",
   "metadata": {},
   "source": [
    "<h4><font color=darkslategray>Number of fraudulent jobs per country</font></h4>"
   ]
  },
  {
   "cell_type": "code",
   "execution_count": 51,
   "id": "645814da",
   "metadata": {},
   "outputs": [
    {
     "data": {
      "text/html": [
       "<div>\n",
       "<style scoped>\n",
       "    .dataframe tbody tr th:only-of-type {\n",
       "        vertical-align: middle;\n",
       "    }\n",
       "\n",
       "    .dataframe tbody tr th {\n",
       "        vertical-align: top;\n",
       "    }\n",
       "\n",
       "    .dataframe thead th {\n",
       "        text-align: right;\n",
       "    }\n",
       "</style>\n",
       "<table border=\"1\" class=\"dataframe\">\n",
       "  <thead>\n",
       "    <tr style=\"text-align: right;\">\n",
       "      <th>country</th>\n",
       "      <th>AE</th>\n",
       "      <th>AL</th>\n",
       "      <th>AM</th>\n",
       "      <th>AR</th>\n",
       "      <th>AT</th>\n",
       "      <th>AU</th>\n",
       "      <th>BD</th>\n",
       "      <th>BE</th>\n",
       "      <th>BG</th>\n",
       "      <th>BH</th>\n",
       "      <th>...</th>\n",
       "      <th>TR</th>\n",
       "      <th>TT</th>\n",
       "      <th>TW</th>\n",
       "      <th>UA</th>\n",
       "      <th>UG</th>\n",
       "      <th>US</th>\n",
       "      <th>VI</th>\n",
       "      <th>VN</th>\n",
       "      <th>ZA</th>\n",
       "      <th>ZM</th>\n",
       "    </tr>\n",
       "    <tr>\n",
       "      <th>fraudulent</th>\n",
       "      <th></th>\n",
       "      <th></th>\n",
       "      <th></th>\n",
       "      <th></th>\n",
       "      <th></th>\n",
       "      <th></th>\n",
       "      <th></th>\n",
       "      <th></th>\n",
       "      <th></th>\n",
       "      <th></th>\n",
       "      <th></th>\n",
       "      <th></th>\n",
       "      <th></th>\n",
       "      <th></th>\n",
       "      <th></th>\n",
       "      <th></th>\n",
       "      <th></th>\n",
       "      <th></th>\n",
       "      <th></th>\n",
       "      <th></th>\n",
       "      <th></th>\n",
       "    </tr>\n",
       "  </thead>\n",
       "  <tbody>\n",
       "    <tr>\n",
       "      <th>0</th>\n",
       "      <td>53</td>\n",
       "      <td>1</td>\n",
       "      <td>2</td>\n",
       "      <td>9</td>\n",
       "      <td>14</td>\n",
       "      <td>174</td>\n",
       "      <td>2</td>\n",
       "      <td>117</td>\n",
       "      <td>17</td>\n",
       "      <td>4</td>\n",
       "      <td>...</td>\n",
       "      <td>17</td>\n",
       "      <td>4</td>\n",
       "      <td>2</td>\n",
       "      <td>13</td>\n",
       "      <td>1</td>\n",
       "      <td>9926</td>\n",
       "      <td>3</td>\n",
       "      <td>4</td>\n",
       "      <td>39</td>\n",
       "      <td>2</td>\n",
       "    </tr>\n",
       "    <tr>\n",
       "      <th>1</th>\n",
       "      <td>1</td>\n",
       "      <td>0</td>\n",
       "      <td>0</td>\n",
       "      <td>0</td>\n",
       "      <td>0</td>\n",
       "      <td>40</td>\n",
       "      <td>0</td>\n",
       "      <td>0</td>\n",
       "      <td>0</td>\n",
       "      <td>5</td>\n",
       "      <td>...</td>\n",
       "      <td>0</td>\n",
       "      <td>0</td>\n",
       "      <td>2</td>\n",
       "      <td>0</td>\n",
       "      <td>0</td>\n",
       "      <td>730</td>\n",
       "      <td>0</td>\n",
       "      <td>0</td>\n",
       "      <td>1</td>\n",
       "      <td>0</td>\n",
       "    </tr>\n",
       "  </tbody>\n",
       "</table>\n",
       "<p>2 rows × 90 columns</p>\n",
       "</div>"
      ],
      "text/plain": [
       "country     AE  AL  AM  AR  AT   AU  BD   BE  BG  BH  ...  TR  TT  TW  UA  UG  \\\n",
       "fraudulent                                            ...                       \n",
       "0           53   1   2   9  14  174   2  117  17   4  ...  17   4   2  13   1   \n",
       "1            1   0   0   0   0   40   0    0   0   5  ...   0   0   2   0   0   \n",
       "\n",
       "country       US  VI  VN  ZA  ZM  \n",
       "fraudulent                        \n",
       "0           9926   3   4  39   2  \n",
       "1            730   0   0   1   0  \n",
       "\n",
       "[2 rows x 90 columns]"
      ]
     },
     "execution_count": 51,
     "metadata": {},
     "output_type": "execute_result"
    }
   ],
   "source": [
    "pd.crosstab(index=df.fraudulent, \n",
    "            columns=df.country)"
   ]
  },
  {
   "cell_type": "markdown",
   "id": "89c54be5",
   "metadata": {},
   "source": [
    "<h4><font color=darkslategray>Top 10 countries that have the highest number of fake job postings</font></h4>"
   ]
  },
  {
   "cell_type": "code",
   "execution_count": 52,
   "id": "b7a0ad4e",
   "metadata": {},
   "outputs": [
    {
     "data": {
      "text/plain": [
       "US    730\n",
       "AU     40\n",
       "GB     23\n",
       "MY     12\n",
       "CA     12\n",
       "QA      6\n",
       "BH      5\n",
       "IN      4\n",
       "PL      3\n",
       "TW      2\n",
       "Name: country, dtype: int64"
      ]
     },
     "execution_count": 52,
     "metadata": {},
     "output_type": "execute_result"
    }
   ],
   "source": [
    "top_fraudulent_countries = df.country[df[\"fraudulent\"] == 1].value_counts().head(10)\n",
    "\n",
    "top_fraudulent_countries"
   ]
  },
  {
   "cell_type": "markdown",
   "id": "eb93c9fe",
   "metadata": {},
   "source": [
    "<h4><font color=darkslategray>Visualize top 10 countries that have the highest number of fake job postings</font></h4>"
   ]
  },
  {
   "cell_type": "code",
   "execution_count": 53,
   "id": "a0b03297",
   "metadata": {},
   "outputs": [
    {
     "data": {
      "image/png": "[encoded data removed]",
      "text/plain": [
       "<Figure size 640x480 with 1 Axes>"
      ]
     },
     "metadata": {},
     "output_type": "display_data"
    }
   ],
   "source": [
    "# Visualize top 10 industries that have the highest number of fake job postings\n",
    "top_fraudulent_countries.plot.bar();\n",
    "\n",
    "top_fraudulent_countries.plot(kind='bar',\n",
    "#                                 figsize=(10, 8),\n",
    "                                title=\"Top 10 countries with the highest number of fake job postings \\n\",\n",
    "                                colormap=\"Set2\",\n",
    "                                xlabel=\"Country\",\n",
    "                                ylabel=\"Frequency\");"
   ]
  },
  {
   "cell_type": "markdown",
   "id": "6b2c4b25",
   "metadata": {},
   "source": [
    "<h3><font color=slateblue> Process data by filling missing data and converting data to numbers </font></h3>"
   ]
  },
  {
   "cell_type": "code",
   "execution_count": 54,
   "id": "171dbddc",
   "metadata": {},
   "outputs": [],
   "source": [
    "def preprocess_data(df):\n",
    "    # Fill numeric rows with -1\n",
    "    for label, content in df.items():\n",
    "        # Fill missing numerical values\n",
    "        if pd.api.types.is_numeric_dtype(content):\n",
    "            if pd.isnull(content).sum():\n",
    "                df[label] = content.fillna(-1)\n",
    "                \n",
    "        # Fill categorical missing data and turn categories into numbers\n",
    "        if not pd.api.types.is_numeric_dtype(content):\n",
    "            # We add the +1 because pandas encodes missing categories as -1\n",
    "            df[label] = pd.Categorical(content).codes+1       \n",
    "    \n",
    "    return df"
   ]
  },
  {
   "cell_type": "code",
   "execution_count": 55,
   "id": "6ed71827",
   "metadata": {},
   "outputs": [
    {
     "data": {
      "text/html": [
       "<div>\n",
       "<style scoped>\n",
       "    .dataframe tbody tr th:only-of-type {\n",
       "        vertical-align: middle;\n",
       "    }\n",
       "\n",
       "    .dataframe tbody tr th {\n",
       "        vertical-align: top;\n",
       "    }\n",
       "\n",
       "    .dataframe thead th {\n",
       "        text-align: right;\n",
       "    }\n",
       "</style>\n",
       "<table border=\"1\" class=\"dataframe\">\n",
       "  <thead>\n",
       "    <tr style=\"text-align: right;\">\n",
       "      <th></th>\n",
       "      <th>department</th>\n",
       "      <th>telecommuting</th>\n",
       "      <th>has_company_logo</th>\n",
       "      <th>has_questions</th>\n",
       "      <th>employment_type</th>\n",
       "      <th>required_experience</th>\n",
       "      <th>required_education</th>\n",
       "      <th>industry</th>\n",
       "      <th>function</th>\n",
       "      <th>fraudulent</th>\n",
       "      <th>country</th>\n",
       "      <th>state</th>\n",
       "      <th>city</th>\n",
       "      <th>minimum_salary</th>\n",
       "      <th>maximum_salary</th>\n",
       "    </tr>\n",
       "  </thead>\n",
       "  <tbody>\n",
       "    <tr>\n",
       "      <th>0</th>\n",
       "      <td>759</td>\n",
       "      <td>0</td>\n",
       "      <td>1</td>\n",
       "      <td>0</td>\n",
       "      <td>3</td>\n",
       "      <td>5</td>\n",
       "      <td>0</td>\n",
       "      <td>0</td>\n",
       "      <td>23</td>\n",
       "      <td>0</td>\n",
       "      <td>86</td>\n",
       "      <td>229</td>\n",
       "      <td>1459</td>\n",
       "      <td>-1</td>\n",
       "      <td>-1</td>\n",
       "    </tr>\n",
       "    <tr>\n",
       "      <th>1</th>\n",
       "      <td>1162</td>\n",
       "      <td>0</td>\n",
       "      <td>1</td>\n",
       "      <td>0</td>\n",
       "      <td>2</td>\n",
       "      <td>7</td>\n",
       "      <td>0</td>\n",
       "      <td>76</td>\n",
       "      <td>8</td>\n",
       "      <td>0</td>\n",
       "      <td>61</td>\n",
       "      <td>1</td>\n",
       "      <td>190</td>\n",
       "      <td>-1</td>\n",
       "      <td>-1</td>\n",
       "    </tr>\n",
       "    <tr>\n",
       "      <th>2</th>\n",
       "      <td>0</td>\n",
       "      <td>0</td>\n",
       "      <td>1</td>\n",
       "      <td>0</td>\n",
       "      <td>0</td>\n",
       "      <td>0</td>\n",
       "      <td>0</td>\n",
       "      <td>0</td>\n",
       "      <td>0</td>\n",
       "      <td>0</td>\n",
       "      <td>86</td>\n",
       "      <td>157</td>\n",
       "      <td>2214</td>\n",
       "      <td>-1</td>\n",
       "      <td>-1</td>\n",
       "    </tr>\n",
       "    <tr>\n",
       "      <th>3</th>\n",
       "      <td>1055</td>\n",
       "      <td>0</td>\n",
       "      <td>1</td>\n",
       "      <td>0</td>\n",
       "      <td>2</td>\n",
       "      <td>6</td>\n",
       "      <td>2</td>\n",
       "      <td>23</td>\n",
       "      <td>32</td>\n",
       "      <td>0</td>\n",
       "      <td>86</td>\n",
       "      <td>106</td>\n",
       "      <td>2165</td>\n",
       "      <td>-1</td>\n",
       "      <td>-1</td>\n",
       "    </tr>\n",
       "    <tr>\n",
       "      <th>4</th>\n",
       "      <td>0</td>\n",
       "      <td>0</td>\n",
       "      <td>1</td>\n",
       "      <td>1</td>\n",
       "      <td>2</td>\n",
       "      <td>6</td>\n",
       "      <td>2</td>\n",
       "      <td>52</td>\n",
       "      <td>17</td>\n",
       "      <td>0</td>\n",
       "      <td>86</td>\n",
       "      <td>132</td>\n",
       "      <td>788</td>\n",
       "      <td>-1</td>\n",
       "      <td>-1</td>\n",
       "    </tr>\n",
       "    <tr>\n",
       "      <th>...</th>\n",
       "      <td>...</td>\n",
       "      <td>...</td>\n",
       "      <td>...</td>\n",
       "      <td>...</td>\n",
       "      <td>...</td>\n",
       "      <td>...</td>\n",
       "      <td>...</td>\n",
       "      <td>...</td>\n",
       "      <td>...</td>\n",
       "      <td>...</td>\n",
       "      <td>...</td>\n",
       "      <td>...</td>\n",
       "      <td>...</td>\n",
       "      <td>...</td>\n",
       "      <td>...</td>\n",
       "    </tr>\n",
       "    <tr>\n",
       "      <th>17875</th>\n",
       "      <td>1055</td>\n",
       "      <td>0</td>\n",
       "      <td>1</td>\n",
       "      <td>1</td>\n",
       "      <td>2</td>\n",
       "      <td>6</td>\n",
       "      <td>0</td>\n",
       "      <td>23</td>\n",
       "      <td>32</td>\n",
       "      <td>0</td>\n",
       "      <td>13</td>\n",
       "      <td>236</td>\n",
       "      <td>2083</td>\n",
       "      <td>-1</td>\n",
       "      <td>-1</td>\n",
       "    </tr>\n",
       "    <tr>\n",
       "      <th>17876</th>\n",
       "      <td>63</td>\n",
       "      <td>0</td>\n",
       "      <td>1</td>\n",
       "      <td>1</td>\n",
       "      <td>2</td>\n",
       "      <td>6</td>\n",
       "      <td>2</td>\n",
       "      <td>62</td>\n",
       "      <td>1</td>\n",
       "      <td>0</td>\n",
       "      <td>86</td>\n",
       "      <td>240</td>\n",
       "      <td>1631</td>\n",
       "      <td>-1</td>\n",
       "      <td>-1</td>\n",
       "    </tr>\n",
       "    <tr>\n",
       "      <th>17877</th>\n",
       "      <td>0</td>\n",
       "      <td>0</td>\n",
       "      <td>0</td>\n",
       "      <td>0</td>\n",
       "      <td>2</td>\n",
       "      <td>0</td>\n",
       "      <td>0</td>\n",
       "      <td>0</td>\n",
       "      <td>0</td>\n",
       "      <td>0</td>\n",
       "      <td>86</td>\n",
       "      <td>290</td>\n",
       "      <td>977</td>\n",
       "      <td>-1</td>\n",
       "      <td>-1</td>\n",
       "    </tr>\n",
       "    <tr>\n",
       "      <th>17878</th>\n",
       "      <td>0</td>\n",
       "      <td>0</td>\n",
       "      <td>0</td>\n",
       "      <td>1</td>\n",
       "      <td>1</td>\n",
       "      <td>7</td>\n",
       "      <td>7</td>\n",
       "      <td>49</td>\n",
       "      <td>10</td>\n",
       "      <td>0</td>\n",
       "      <td>57</td>\n",
       "      <td>177</td>\n",
       "      <td>1116</td>\n",
       "      <td>-1</td>\n",
       "      <td>-1</td>\n",
       "    </tr>\n",
       "    <tr>\n",
       "      <th>17879</th>\n",
       "      <td>435</td>\n",
       "      <td>0</td>\n",
       "      <td>1</td>\n",
       "      <td>1</td>\n",
       "      <td>2</td>\n",
       "      <td>6</td>\n",
       "      <td>0</td>\n",
       "      <td>23</td>\n",
       "      <td>13</td>\n",
       "      <td>0</td>\n",
       "      <td>61</td>\n",
       "      <td>206</td>\n",
       "      <td>2183</td>\n",
       "      <td>-1</td>\n",
       "      <td>-1</td>\n",
       "    </tr>\n",
       "  </tbody>\n",
       "</table>\n",
       "<p>17880 rows × 15 columns</p>\n",
       "</div>"
      ],
      "text/plain": [
       "       department  telecommuting  has_company_logo  has_questions  \\\n",
       "0             759              0                 1              0   \n",
       "1            1162              0                 1              0   \n",
       "2               0              0                 1              0   \n",
       "3            1055              0                 1              0   \n",
       "4               0              0                 1              1   \n",
       "...           ...            ...               ...            ...   \n",
       "17875        1055              0                 1              1   \n",
       "17876          63              0                 1              1   \n",
       "17877           0              0                 0              0   \n",
       "17878           0              0                 0              1   \n",
       "17879         435              0                 1              1   \n",
       "\n",
       "       employment_type  required_experience  required_education  industry  \\\n",
       "0                    3                    5                   0         0   \n",
       "1                    2                    7                   0        76   \n",
       "2                    0                    0                   0         0   \n",
       "3                    2                    6                   2        23   \n",
       "4                    2                    6                   2        52   \n",
       "...                ...                  ...                 ...       ...   \n",
       "17875                2                    6                   0        23   \n",
       "17876                2                    6                   2        62   \n",
       "17877                2                    0                   0         0   \n",
       "17878                1                    7                   7        49   \n",
       "17879                2                    6                   0        23   \n",
       "\n",
       "       function  fraudulent  country  state  city  minimum_salary  \\\n",
       "0            23           0       86    229  1459              -1   \n",
       "1             8           0       61      1   190              -1   \n",
       "2             0           0       86    157  2214              -1   \n",
       "3            32           0       86    106  2165              -1   \n",
       "4            17           0       86    132   788              -1   \n",
       "...         ...         ...      ...    ...   ...             ...   \n",
       "17875        32           0       13    236  2083              -1   \n",
       "17876         1           0       86    240  1631              -1   \n",
       "17877         0           0       86    290   977              -1   \n",
       "17878        10           0       57    177  1116              -1   \n",
       "17879        13           0       61    206  2183              -1   \n",
       "\n",
       "       maximum_salary  \n",
       "0                  -1  \n",
       "1                  -1  \n",
       "2                  -1  \n",
       "3                  -1  \n",
       "4                  -1  \n",
       "...               ...  \n",
       "17875              -1  \n",
       "17876              -1  \n",
       "17877              -1  \n",
       "17878              -1  \n",
       "17879              -1  \n",
       "\n",
       "[17880 rows x 15 columns]"
      ]
     },
     "execution_count": 55,
     "metadata": {},
     "output_type": "execute_result"
    }
   ],
   "source": [
    "preprocess_data(df)"
   ]
  },
  {
   "cell_type": "markdown",
   "id": "709c52f5",
   "metadata": {},
   "source": [
    "<h3><font color=slateblue> Get a sample of the data </font></h3>"
   ]
  },
  {
   "cell_type": "code",
   "execution_count": 56,
   "id": "1fc0c659",
   "metadata": {},
   "outputs": [
    {
     "data": {
      "text/html": [
       "<div>\n",
       "<style scoped>\n",
       "    .dataframe tbody tr th:only-of-type {\n",
       "        vertical-align: middle;\n",
       "    }\n",
       "\n",
       "    .dataframe tbody tr th {\n",
       "        vertical-align: top;\n",
       "    }\n",
       "\n",
       "    .dataframe thead th {\n",
       "        text-align: right;\n",
       "    }\n",
       "</style>\n",
       "<table border=\"1\" class=\"dataframe\">\n",
       "  <thead>\n",
       "    <tr style=\"text-align: right;\">\n",
       "      <th></th>\n",
       "      <th>department</th>\n",
       "      <th>telecommuting</th>\n",
       "      <th>has_company_logo</th>\n",
       "      <th>has_questions</th>\n",
       "      <th>employment_type</th>\n",
       "      <th>required_experience</th>\n",
       "      <th>required_education</th>\n",
       "      <th>industry</th>\n",
       "      <th>function</th>\n",
       "      <th>fraudulent</th>\n",
       "      <th>country</th>\n",
       "      <th>state</th>\n",
       "      <th>city</th>\n",
       "      <th>minimum_salary</th>\n",
       "      <th>maximum_salary</th>\n",
       "    </tr>\n",
       "  </thead>\n",
       "  <tbody>\n",
       "    <tr>\n",
       "      <th>1498</th>\n",
       "      <td>0</td>\n",
       "      <td>0</td>\n",
       "      <td>1</td>\n",
       "      <td>0</td>\n",
       "      <td>2</td>\n",
       "      <td>6</td>\n",
       "      <td>2</td>\n",
       "      <td>11</td>\n",
       "      <td>0</td>\n",
       "      <td>0</td>\n",
       "      <td>86</td>\n",
       "      <td>106</td>\n",
       "      <td>2165</td>\n",
       "      <td>-1</td>\n",
       "      <td>-1</td>\n",
       "    </tr>\n",
       "    <tr>\n",
       "      <th>8873</th>\n",
       "      <td>0</td>\n",
       "      <td>0</td>\n",
       "      <td>1</td>\n",
       "      <td>0</td>\n",
       "      <td>2</td>\n",
       "      <td>0</td>\n",
       "      <td>2</td>\n",
       "      <td>53</td>\n",
       "      <td>0</td>\n",
       "      <td>0</td>\n",
       "      <td>30</td>\n",
       "      <td>156</td>\n",
       "      <td>175</td>\n",
       "      <td>-1</td>\n",
       "      <td>-1</td>\n",
       "    </tr>\n",
       "    <tr>\n",
       "      <th>14140</th>\n",
       "      <td>380</td>\n",
       "      <td>0</td>\n",
       "      <td>0</td>\n",
       "      <td>1</td>\n",
       "      <td>2</td>\n",
       "      <td>0</td>\n",
       "      <td>0</td>\n",
       "      <td>0</td>\n",
       "      <td>0</td>\n",
       "      <td>0</td>\n",
       "      <td>86</td>\n",
       "      <td>134</td>\n",
       "      <td>180</td>\n",
       "      <td>-1</td>\n",
       "      <td>-1</td>\n",
       "    </tr>\n",
       "    <tr>\n",
       "      <th>2946</th>\n",
       "      <td>0</td>\n",
       "      <td>0</td>\n",
       "      <td>1</td>\n",
       "      <td>1</td>\n",
       "      <td>1</td>\n",
       "      <td>0</td>\n",
       "      <td>2</td>\n",
       "      <td>32</td>\n",
       "      <td>0</td>\n",
       "      <td>0</td>\n",
       "      <td>86</td>\n",
       "      <td>85</td>\n",
       "      <td>1823</td>\n",
       "      <td>-1</td>\n",
       "      <td>-1</td>\n",
       "    </tr>\n",
       "    <tr>\n",
       "      <th>4100</th>\n",
       "      <td>0</td>\n",
       "      <td>0</td>\n",
       "      <td>1</td>\n",
       "      <td>1</td>\n",
       "      <td>1</td>\n",
       "      <td>1</td>\n",
       "      <td>5</td>\n",
       "      <td>36</td>\n",
       "      <td>32</td>\n",
       "      <td>0</td>\n",
       "      <td>31</td>\n",
       "      <td>1</td>\n",
       "      <td>1</td>\n",
       "      <td>-1</td>\n",
       "      <td>-1</td>\n",
       "    </tr>\n",
       "  </tbody>\n",
       "</table>\n",
       "</div>"
      ],
      "text/plain": [
       "       department  telecommuting  has_company_logo  has_questions  \\\n",
       "1498            0              0                 1              0   \n",
       "8873            0              0                 1              0   \n",
       "14140         380              0                 0              1   \n",
       "2946            0              0                 1              1   \n",
       "4100            0              0                 1              1   \n",
       "\n",
       "       employment_type  required_experience  required_education  industry  \\\n",
       "1498                 2                    6                   2        11   \n",
       "8873                 2                    0                   2        53   \n",
       "14140                2                    0                   0         0   \n",
       "2946                 1                    0                   2        32   \n",
       "4100                 1                    1                   5        36   \n",
       "\n",
       "       function  fraudulent  country  state  city  minimum_salary  \\\n",
       "1498          0           0       86    106  2165              -1   \n",
       "8873          0           0       30    156   175              -1   \n",
       "14140         0           0       86    134   180              -1   \n",
       "2946          0           0       86     85  1823              -1   \n",
       "4100         32           0       31      1     1              -1   \n",
       "\n",
       "       maximum_salary  \n",
       "1498               -1  \n",
       "8873               -1  \n",
       "14140              -1  \n",
       "2946               -1  \n",
       "4100               -1  "
      ]
     },
     "execution_count": 56,
     "metadata": {},
     "output_type": "execute_result"
    }
   ],
   "source": [
    "df.sample(5)"
   ]
  },
  {
   "cell_type": "markdown",
   "id": "62895111",
   "metadata": {},
   "source": [
    "<h3><font color=slateblue> Correlation of numerical variables </font></h3>"
   ]
  },
  {
   "cell_type": "code",
   "execution_count": 57,
   "id": "ff958ccf",
   "metadata": {},
   "outputs": [
    {
     "data": {
      "image/png": "[encoded data removed]",
      "text/plain": [
       "<Figure size 1000x600 with 2 Axes>"
      ]
     },
     "metadata": {},
     "output_type": "display_data"
    }
   ],
   "source": [
    "corr_matrix = df.corr()\n",
    "plt.figure(figsize=(10, 6))\n",
    "sns.heatmap(corr_matrix, \n",
    "            annot=True, \n",
    "            linewidths=0.5, \n",
    "            fmt= \".2f\", \n",
    "            cmap=\"YlGnBu\");"
   ]
  },
  {
   "cell_type": "markdown",
   "id": "979ac24a",
   "metadata": {},
   "source": [
    "<h3><font color=slateblue> Balance classes </font></h3>"
   ]
  },
  {
   "cell_type": "code",
   "execution_count": 58,
   "id": "4fabb4b4",
   "metadata": {},
   "outputs": [
    {
     "data": {
      "text/html": [
       "<div>\n",
       "<style scoped>\n",
       "    .dataframe tbody tr th:only-of-type {\n",
       "        vertical-align: middle;\n",
       "    }\n",
       "\n",
       "    .dataframe tbody tr th {\n",
       "        vertical-align: top;\n",
       "    }\n",
       "\n",
       "    .dataframe thead th {\n",
       "        text-align: right;\n",
       "    }\n",
       "</style>\n",
       "<table border=\"1\" class=\"dataframe\">\n",
       "  <thead>\n",
       "    <tr style=\"text-align: right;\">\n",
       "      <th></th>\n",
       "      <th>department</th>\n",
       "      <th>telecommuting</th>\n",
       "      <th>has_company_logo</th>\n",
       "      <th>has_questions</th>\n",
       "      <th>employment_type</th>\n",
       "      <th>required_experience</th>\n",
       "      <th>required_education</th>\n",
       "      <th>industry</th>\n",
       "      <th>function</th>\n",
       "      <th>fraudulent</th>\n",
       "      <th>country</th>\n",
       "      <th>state</th>\n",
       "      <th>city</th>\n",
       "      <th>minimum_salary</th>\n",
       "      <th>maximum_salary</th>\n",
       "    </tr>\n",
       "  </thead>\n",
       "  <tbody>\n",
       "    <tr>\n",
       "      <th>1198</th>\n",
       "      <td>0</td>\n",
       "      <td>0</td>\n",
       "      <td>0</td>\n",
       "      <td>0</td>\n",
       "      <td>2</td>\n",
       "      <td>0</td>\n",
       "      <td>0</td>\n",
       "      <td>0</td>\n",
       "      <td>0</td>\n",
       "      <td>1</td>\n",
       "      <td>86</td>\n",
       "      <td>157</td>\n",
       "      <td>638</td>\n",
       "      <td>-1</td>\n",
       "      <td>-1</td>\n",
       "    </tr>\n",
       "    <tr>\n",
       "      <th>1133</th>\n",
       "      <td>0</td>\n",
       "      <td>0</td>\n",
       "      <td>0</td>\n",
       "      <td>1</td>\n",
       "      <td>0</td>\n",
       "      <td>0</td>\n",
       "      <td>0</td>\n",
       "      <td>0</td>\n",
       "      <td>0</td>\n",
       "      <td>1</td>\n",
       "      <td>86</td>\n",
       "      <td>132</td>\n",
       "      <td>2043</td>\n",
       "      <td>-1</td>\n",
       "      <td>-1</td>\n",
       "    </tr>\n",
       "    <tr>\n",
       "      <th>1526</th>\n",
       "      <td>0</td>\n",
       "      <td>0</td>\n",
       "      <td>0</td>\n",
       "      <td>0</td>\n",
       "      <td>2</td>\n",
       "      <td>0</td>\n",
       "      <td>0</td>\n",
       "      <td>59</td>\n",
       "      <td>0</td>\n",
       "      <td>1</td>\n",
       "      <td>86</td>\n",
       "      <td>85</td>\n",
       "      <td>1</td>\n",
       "      <td>-1</td>\n",
       "      <td>-1</td>\n",
       "    </tr>\n",
       "    <tr>\n",
       "      <th>10</th>\n",
       "      <td>0</td>\n",
       "      <td>0</td>\n",
       "      <td>1</td>\n",
       "      <td>1</td>\n",
       "      <td>2</td>\n",
       "      <td>6</td>\n",
       "      <td>5</td>\n",
       "      <td>108</td>\n",
       "      <td>0</td>\n",
       "      <td>0</td>\n",
       "      <td>86</td>\n",
       "      <td>232</td>\n",
       "      <td>545</td>\n",
       "      <td>-1</td>\n",
       "      <td>-1</td>\n",
       "    </tr>\n",
       "    <tr>\n",
       "      <th>1043</th>\n",
       "      <td>568</td>\n",
       "      <td>0</td>\n",
       "      <td>0</td>\n",
       "      <td>0</td>\n",
       "      <td>0</td>\n",
       "      <td>0</td>\n",
       "      <td>0</td>\n",
       "      <td>0</td>\n",
       "      <td>0</td>\n",
       "      <td>1</td>\n",
       "      <td>28</td>\n",
       "      <td>184</td>\n",
       "      <td>1</td>\n",
       "      <td>-1</td>\n",
       "      <td>-1</td>\n",
       "    </tr>\n",
       "    <tr>\n",
       "      <th>1306</th>\n",
       "      <td>0</td>\n",
       "      <td>0</td>\n",
       "      <td>0</td>\n",
       "      <td>0</td>\n",
       "      <td>1</td>\n",
       "      <td>0</td>\n",
       "      <td>0</td>\n",
       "      <td>108</td>\n",
       "      <td>0</td>\n",
       "      <td>1</td>\n",
       "      <td>86</td>\n",
       "      <td>191</td>\n",
       "      <td>1767</td>\n",
       "      <td>-1</td>\n",
       "      <td>-1</td>\n",
       "    </tr>\n",
       "    <tr>\n",
       "      <th>513</th>\n",
       "      <td>389</td>\n",
       "      <td>0</td>\n",
       "      <td>1</td>\n",
       "      <td>1</td>\n",
       "      <td>0</td>\n",
       "      <td>0</td>\n",
       "      <td>0</td>\n",
       "      <td>76</td>\n",
       "      <td>3</td>\n",
       "      <td>0</td>\n",
       "      <td>86</td>\n",
       "      <td>158</td>\n",
       "      <td>317</td>\n",
       "      <td>-1</td>\n",
       "      <td>-1</td>\n",
       "    </tr>\n",
       "    <tr>\n",
       "      <th>499</th>\n",
       "      <td>0</td>\n",
       "      <td>0</td>\n",
       "      <td>1</td>\n",
       "      <td>1</td>\n",
       "      <td>2</td>\n",
       "      <td>6</td>\n",
       "      <td>2</td>\n",
       "      <td>40</td>\n",
       "      <td>23</td>\n",
       "      <td>0</td>\n",
       "      <td>28</td>\n",
       "      <td>184</td>\n",
       "      <td>1192</td>\n",
       "      <td>-1</td>\n",
       "      <td>-1</td>\n",
       "    </tr>\n",
       "    <tr>\n",
       "      <th>228</th>\n",
       "      <td>0</td>\n",
       "      <td>0</td>\n",
       "      <td>0</td>\n",
       "      <td>0</td>\n",
       "      <td>2</td>\n",
       "      <td>6</td>\n",
       "      <td>0</td>\n",
       "      <td>34</td>\n",
       "      <td>0</td>\n",
       "      <td>0</td>\n",
       "      <td>25</td>\n",
       "      <td>1</td>\n",
       "      <td>459</td>\n",
       "      <td>-1</td>\n",
       "      <td>-1</td>\n",
       "    </tr>\n",
       "    <tr>\n",
       "      <th>929</th>\n",
       "      <td>0</td>\n",
       "      <td>0</td>\n",
       "      <td>1</td>\n",
       "      <td>0</td>\n",
       "      <td>2</td>\n",
       "      <td>0</td>\n",
       "      <td>0</td>\n",
       "      <td>89</td>\n",
       "      <td>13</td>\n",
       "      <td>1</td>\n",
       "      <td>86</td>\n",
       "      <td>290</td>\n",
       "      <td>977</td>\n",
       "      <td>-1</td>\n",
       "      <td>-1</td>\n",
       "    </tr>\n",
       "  </tbody>\n",
       "</table>\n",
       "</div>"
      ],
      "text/plain": [
       "      department  telecommuting  has_company_logo  has_questions  \\\n",
       "1198           0              0                 0              0   \n",
       "1133           0              0                 0              1   \n",
       "1526           0              0                 0              0   \n",
       "10             0              0                 1              1   \n",
       "1043         568              0                 0              0   \n",
       "1306           0              0                 0              0   \n",
       "513          389              0                 1              1   \n",
       "499            0              0                 1              1   \n",
       "228            0              0                 0              0   \n",
       "929            0              0                 1              0   \n",
       "\n",
       "      employment_type  required_experience  required_education  industry  \\\n",
       "1198                2                    0                   0         0   \n",
       "1133                0                    0                   0         0   \n",
       "1526                2                    0                   0        59   \n",
       "10                  2                    6                   5       108   \n",
       "1043                0                    0                   0         0   \n",
       "1306                1                    0                   0       108   \n",
       "513                 0                    0                   0        76   \n",
       "499                 2                    6                   2        40   \n",
       "228                 2                    6                   0        34   \n",
       "929                 2                    0                   0        89   \n",
       "\n",
       "      function  fraudulent  country  state  city  minimum_salary  \\\n",
       "1198         0           1       86    157   638              -1   \n",
       "1133         0           1       86    132  2043              -1   \n",
       "1526         0           1       86     85     1              -1   \n",
       "10           0           0       86    232   545              -1   \n",
       "1043         0           1       28    184     1              -1   \n",
       "1306         0           1       86    191  1767              -1   \n",
       "513          3           0       86    158   317              -1   \n",
       "499         23           0       28    184  1192              -1   \n",
       "228          0           0       25      1   459              -1   \n",
       "929         13           1       86    290   977              -1   \n",
       "\n",
       "      maximum_salary  \n",
       "1198              -1  \n",
       "1133              -1  \n",
       "1526              -1  \n",
       "10                -1  \n",
       "1043              -1  \n",
       "1306              -1  \n",
       "513               -1  \n",
       "499               -1  \n",
       "228               -1  \n",
       "929               -1  "
      ]
     },
     "execution_count": 58,
     "metadata": {},
     "output_type": "execute_result"
    }
   ],
   "source": [
    "np.random.seed(42)\n",
    "\n",
    "df_real = df[df.fraudulent == 0].sample(865)\n",
    "df_fake = df[df.fraudulent == 1]\n",
    "\n",
    "df_balanced = pd.concat([df_real, df_fake], ignore_index=True, sort=False)\n",
    "\n",
    "# shuffle classes\n",
    "from sklearn.utils import shuffle\n",
    "df_balanced = shuffle(df_balanced)\n",
    "\n",
    "df_balanced.head(10)"
   ]
  },
  {
   "cell_type": "markdown",
   "id": "19f31b53",
   "metadata": {},
   "source": [
    "<h2><font color=steelblue> Modelling </font></h2>"
   ]
  },
  {
   "cell_type": "markdown",
   "id": "c42ef525",
   "metadata": {},
   "source": [
    "Since it is a classification problem, here are the avaiable models from SciKit Learn."
   ]
  },
  {
   "cell_type": "markdown",
   "id": "acce3055",
   "metadata": {},
   "source": [
    "<div>\n",
    "<img src=\"images/classification-map.png\" width=\"500\"/>\n",
    "</div>"
   ]
  },
  {
   "cell_type": "markdown",
   "id": "71624383",
   "metadata": {},
   "source": [
    "<h3><font color=slateblue> LinearSVC </font></h3>"
   ]
  },
  {
   "cell_type": "markdown",
   "id": "2397b9e6",
   "metadata": {},
   "source": [
    "<h4><font color=darkslategray> Train model </font></h4>"
   ]
  },
  {
   "cell_type": "code",
   "execution_count": 59,
   "id": "ddc5646c",
   "metadata": {},
   "outputs": [
    {
     "data": {
      "text/html": [
       "<style>#sk-container-id-1 {color: black;background-color: white;}#sk-container-id-1 pre{padding: 0;}#sk-container-id-1 div.sk-toggleable {background-color: white;}#sk-container-id-1 label.sk-toggleable__label {cursor: pointer;display: block;width: 100%;margin-bottom: 0;padding: 0.3em;box-sizing: border-box;text-align: center;}#sk-container-id-1 label.sk-toggleable__label-arrow:before {content: \"▸\";float: left;margin-right: 0.25em;color: #696969;}#sk-container-id-1 label.sk-toggleable__label-arrow:hover:before {color: black;}#sk-container-id-1 div.sk-estimator:hover label.sk-toggleable__label-arrow:before {color: black;}#sk-container-id-1 div.sk-toggleable__content {max-height: 0;max-width: 0;overflow: hidden;text-align: left;background-color: #f0f8ff;}#sk-container-id-1 div.sk-toggleable__content pre {margin: 0.2em;color: black;border-radius: 0.25em;background-color: #f0f8ff;}#sk-container-id-1 input.sk-toggleable__control:checked~div.sk-toggleable__content {max-height: 200px;max-width: 100%;overflow: auto;}#sk-container-id-1 input.sk-toggleable__control:checked~label.sk-toggleable__label-arrow:before {content: \"▾\";}#sk-container-id-1 div.sk-estimator input.sk-toggleable__control:checked~label.sk-toggleable__label {background-color: #d4ebff;}#sk-container-id-1 div.sk-label input.sk-toggleable__control:checked~label.sk-toggleable__label {background-color: #d4ebff;}#sk-container-id-1 input.sk-hidden--visually {border: 0;clip: rect(1px 1px 1px 1px);clip: rect(1px, 1px, 1px, 1px);height: 1px;margin: -1px;overflow: hidden;padding: 0;position: absolute;width: 1px;}#sk-container-id-1 div.sk-estimator {font-family: monospace;background-color: #f0f8ff;border: 1px dotted black;border-radius: 0.25em;box-sizing: border-box;margin-bottom: 0.5em;}#sk-container-id-1 div.sk-estimator:hover {background-color: #d4ebff;}#sk-container-id-1 div.sk-parallel-item::after {content: \"\";width: 100%;border-bottom: 1px solid gray;flex-grow: 1;}#sk-container-id-1 div.sk-label:hover label.sk-toggleable__label {background-color: #d4ebff;}#sk-container-id-1 div.sk-serial::before {content: \"\";position: absolute;border-left: 1px solid gray;box-sizing: border-box;top: 0;bottom: 0;left: 50%;z-index: 0;}#sk-container-id-1 div.sk-serial {display: flex;flex-direction: column;align-items: center;background-color: white;padding-right: 0.2em;padding-left: 0.2em;position: relative;}#sk-container-id-1 div.sk-item {position: relative;z-index: 1;}#sk-container-id-1 div.sk-parallel {display: flex;align-items: stretch;justify-content: center;background-color: white;position: relative;}#sk-container-id-1 div.sk-item::before, #sk-container-id-1 div.sk-parallel-item::before {content: \"\";position: absolute;border-left: 1px solid gray;box-sizing: border-box;top: 0;bottom: 0;left: 50%;z-index: -1;}#sk-container-id-1 div.sk-parallel-item {display: flex;flex-direction: column;z-index: 1;position: relative;background-color: white;}#sk-container-id-1 div.sk-parallel-item:first-child::after {align-self: flex-end;width: 50%;}#sk-container-id-1 div.sk-parallel-item:last-child::after {align-self: flex-start;width: 50%;}#sk-container-id-1 div.sk-parallel-item:only-child::after {width: 0;}#sk-container-id-1 div.sk-dashed-wrapped {border: 1px dashed gray;margin: 0 0.4em 0.5em 0.4em;box-sizing: border-box;padding-bottom: 0.4em;background-color: white;}#sk-container-id-1 div.sk-label label {font-family: monospace;font-weight: bold;display: inline-block;line-height: 1.2em;}#sk-container-id-1 div.sk-label-container {text-align: center;}#sk-container-id-1 div.sk-container {/* jupyter's `normalize.less` sets `[hidden] { display: none; }` but bootstrap.min.css set `[hidden] { display: none !important; }` so we also need the `!important` here to be able to override the default hidden behavior on the sphinx rendered scikit-learn.org. See: https://github.com/scikit-learn/scikit-learn/issues/21755 */display: inline-block !important;position: relative;}#sk-container-id-1 div.sk-text-repr-fallback {display: none;}</style><div id=\"sk-container-id-1\" class=\"sk-top-container\"><div class=\"sk-text-repr-fallback\"><pre>LinearSVC(dual=False)</pre><b>In a Jupyter environment, please rerun this cell to show the HTML representation or trust the notebook. <br />On GitHub, the HTML representation is unable to render, please try loading this page with nbviewer.org.</b></div><div class=\"sk-container\" hidden><div class=\"sk-item\"><div class=\"sk-estimator sk-toggleable\"><input class=\"sk-toggleable__control sk-hidden--visually\" id=\"sk-estimator-id-1\" type=\"checkbox\" checked><label for=\"sk-estimator-id-1\" class=\"sk-toggleable__label sk-toggleable__label-arrow\">LinearSVC</label><div class=\"sk-toggleable__content\"><pre>LinearSVC(dual=False)</pre></div></div></div></div></div>"
      ],
      "text/plain": [
       "LinearSVC(dual=False)"
      ]
     },
     "execution_count": 59,
     "metadata": {},
     "output_type": "execute_result"
    }
   ],
   "source": [
    "# Let's build a machine learning model\n",
    "from sklearn import svm\n",
    "from sklearn.model_selection import train_test_split\n",
    "\n",
    "X = df_balanced.drop(\"fraudulent\", axis=1)\n",
    "y = df_balanced[\"fraudulent\"]\n",
    "\n",
    "# Random seed for reproducibility\n",
    "np.random.seed(42)\n",
    "\n",
    "# Split into train & test set\n",
    "X_train, X_test, y_train, y_test = train_test_split(X, # independent variables \n",
    "                                                    y, # dependent variable\n",
    "                                                    test_size = 0.2) # percentage of data to use for test set\n",
    "\n",
    "model = svm.LinearSVC(dual=False)\n",
    "\n",
    "model.fit(X_train, y_train)"
   ]
  },
  {
   "cell_type": "markdown",
   "id": "91d5b642",
   "metadata": {},
   "source": [
    "<h4><font color=darkslategray> Score training set </font></h4>"
   ]
  },
  {
   "cell_type": "code",
   "execution_count": 60,
   "id": "8a7dfb29",
   "metadata": {},
   "outputs": [
    {
     "data": {
      "text/plain": [
       "0.7471098265895953"
      ]
     },
     "execution_count": 60,
     "metadata": {},
     "output_type": "execute_result"
    }
   ],
   "source": [
    "model.score(X_train, y_train)"
   ]
  },
  {
   "cell_type": "markdown",
   "id": "49af7d67",
   "metadata": {},
   "source": [
    "<h4><font color=darkslategray> Score test set </font></h4>"
   ]
  },
  {
   "cell_type": "markdown",
   "id": "cc117782",
   "metadata": {},
   "source": [
    "1. Accuracy"
   ]
  },
  {
   "cell_type": "code",
   "execution_count": 61,
   "id": "bd10ff59",
   "metadata": {},
   "outputs": [
    {
     "data": {
      "text/plain": [
       "0.7348703170028819"
      ]
     },
     "execution_count": 61,
     "metadata": {},
     "output_type": "execute_result"
    }
   ],
   "source": [
    "model.score(X_test, y_test)"
   ]
  },
  {
   "cell_type": "markdown",
   "id": "111c7aec",
   "metadata": {},
   "source": [
    "2. Confusion matrix"
   ]
  },
  {
   "cell_type": "code",
   "execution_count": 62,
   "id": "6bc3edcb",
   "metadata": {},
   "outputs": [],
   "source": [
    "y_preds = model.predict(X_test)"
   ]
  },
  {
   "cell_type": "code",
   "execution_count": 63,
   "id": "c461a031",
   "metadata": {},
   "outputs": [
    {
     "name": "stdout",
     "output_type": "stream",
     "text": [
      "[[144  37]\n",
      " [ 55 111]]\n"
     ]
    }
   ],
   "source": [
    "from sklearn.metrics import confusion_matrix\n",
    "\n",
    "# Display confusion matrix\n",
    "print(confusion_matrix(y_test, y_preds))"
   ]
  },
  {
   "cell_type": "code",
   "execution_count": 64,
   "id": "a900c2c6",
   "metadata": {},
   "outputs": [
    {
     "data": {
      "image/png": "[encoded data removed]",
      "text/plain": [
       "<Figure size 300x300 with 1 Axes>"
      ]
     },
     "metadata": {},
     "output_type": "display_data"
    }
   ],
   "source": [
    "fig, ax = plt.subplots(figsize=(3, 3))\n",
    "ax = sns.heatmap(confusion_matrix(y_test, y_preds),\n",
    "                 annot=True, # Annotate the boxes\n",
    "                 cbar=False)\n",
    "plt.xlabel(\"true label\")\n",
    "plt.ylabel(\"predicted label\");"
   ]
  },
  {
   "cell_type": "markdown",
   "id": "928351d0",
   "metadata": {},
   "source": [
    "<h3><font color=slateblue> Gaussian Naive Bayes </font></h3>"
   ]
  },
  {
   "cell_type": "markdown",
   "id": "d2b9d89b",
   "metadata": {},
   "source": [
    "<h4><font color=darkslategray> Train model </font></h4>"
   ]
  },
  {
   "cell_type": "code",
   "execution_count": 65,
   "id": "05087a60",
   "metadata": {},
   "outputs": [
    {
     "data": {
      "text/html": [
       "<style>#sk-container-id-2 {color: black;background-color: white;}#sk-container-id-2 pre{padding: 0;}#sk-container-id-2 div.sk-toggleable {background-color: white;}#sk-container-id-2 label.sk-toggleable__label {cursor: pointer;display: block;width: 100%;margin-bottom: 0;padding: 0.3em;box-sizing: border-box;text-align: center;}#sk-container-id-2 label.sk-toggleable__label-arrow:before {content: \"▸\";float: left;margin-right: 0.25em;color: #696969;}#sk-container-id-2 label.sk-toggleable__label-arrow:hover:before {color: black;}#sk-container-id-2 div.sk-estimator:hover label.sk-toggleable__label-arrow:before {color: black;}#sk-container-id-2 div.sk-toggleable__content {max-height: 0;max-width: 0;overflow: hidden;text-align: left;background-color: #f0f8ff;}#sk-container-id-2 div.sk-toggleable__content pre {margin: 0.2em;color: black;border-radius: 0.25em;background-color: #f0f8ff;}#sk-container-id-2 input.sk-toggleable__control:checked~div.sk-toggleable__content {max-height: 200px;max-width: 100%;overflow: auto;}#sk-container-id-2 input.sk-toggleable__control:checked~label.sk-toggleable__label-arrow:before {content: \"▾\";}#sk-container-id-2 div.sk-estimator input.sk-toggleable__control:checked~label.sk-toggleable__label {background-color: #d4ebff;}#sk-container-id-2 div.sk-label input.sk-toggleable__control:checked~label.sk-toggleable__label {background-color: #d4ebff;}#sk-container-id-2 input.sk-hidden--visually {border: 0;clip: rect(1px 1px 1px 1px);clip: rect(1px, 1px, 1px, 1px);height: 1px;margin: -1px;overflow: hidden;padding: 0;position: absolute;width: 1px;}#sk-container-id-2 div.sk-estimator {font-family: monospace;background-color: #f0f8ff;border: 1px dotted black;border-radius: 0.25em;box-sizing: border-box;margin-bottom: 0.5em;}#sk-container-id-2 div.sk-estimator:hover {background-color: #d4ebff;}#sk-container-id-2 div.sk-parallel-item::after {content: \"\";width: 100%;border-bottom: 1px solid gray;flex-grow: 1;}#sk-container-id-2 div.sk-label:hover label.sk-toggleable__label {background-color: #d4ebff;}#sk-container-id-2 div.sk-serial::before {content: \"\";position: absolute;border-left: 1px solid gray;box-sizing: border-box;top: 0;bottom: 0;left: 50%;z-index: 0;}#sk-container-id-2 div.sk-serial {display: flex;flex-direction: column;align-items: center;background-color: white;padding-right: 0.2em;padding-left: 0.2em;position: relative;}#sk-container-id-2 div.sk-item {position: relative;z-index: 1;}#sk-container-id-2 div.sk-parallel {display: flex;align-items: stretch;justify-content: center;background-color: white;position: relative;}#sk-container-id-2 div.sk-item::before, #sk-container-id-2 div.sk-parallel-item::before {content: \"\";position: absolute;border-left: 1px solid gray;box-sizing: border-box;top: 0;bottom: 0;left: 50%;z-index: -1;}#sk-container-id-2 div.sk-parallel-item {display: flex;flex-direction: column;z-index: 1;position: relative;background-color: white;}#sk-container-id-2 div.sk-parallel-item:first-child::after {align-self: flex-end;width: 50%;}#sk-container-id-2 div.sk-parallel-item:last-child::after {align-self: flex-start;width: 50%;}#sk-container-id-2 div.sk-parallel-item:only-child::after {width: 0;}#sk-container-id-2 div.sk-dashed-wrapped {border: 1px dashed gray;margin: 0 0.4em 0.5em 0.4em;box-sizing: border-box;padding-bottom: 0.4em;background-color: white;}#sk-container-id-2 div.sk-label label {font-family: monospace;font-weight: bold;display: inline-block;line-height: 1.2em;}#sk-container-id-2 div.sk-label-container {text-align: center;}#sk-container-id-2 div.sk-container {/* jupyter's `normalize.less` sets `[hidden] { display: none; }` but bootstrap.min.css set `[hidden] { display: none !important; }` so we also need the `!important` here to be able to override the default hidden behavior on the sphinx rendered scikit-learn.org. See: https://github.com/scikit-learn/scikit-learn/issues/21755 */display: inline-block !important;position: relative;}#sk-container-id-2 div.sk-text-repr-fallback {display: none;}</style><div id=\"sk-container-id-2\" class=\"sk-top-container\"><div class=\"sk-text-repr-fallback\"><pre>GaussianNB()</pre><b>In a Jupyter environment, please rerun this cell to show the HTML representation or trust the notebook. <br />On GitHub, the HTML representation is unable to render, please try loading this page with nbviewer.org.</b></div><div class=\"sk-container\" hidden><div class=\"sk-item\"><div class=\"sk-estimator sk-toggleable\"><input class=\"sk-toggleable__control sk-hidden--visually\" id=\"sk-estimator-id-2\" type=\"checkbox\" checked><label for=\"sk-estimator-id-2\" class=\"sk-toggleable__label sk-toggleable__label-arrow\">GaussianNB</label><div class=\"sk-toggleable__content\"><pre>GaussianNB()</pre></div></div></div></div></div>"
      ],
      "text/plain": [
       "GaussianNB()"
      ]
     },
     "execution_count": 65,
     "metadata": {},
     "output_type": "execute_result"
    }
   ],
   "source": [
    "from sklearn.model_selection import train_test_split\n",
    "from sklearn.naive_bayes import GaussianNB\n",
    "\n",
    "X = df.drop(\"fraudulent\", axis=1)\n",
    "y = df[\"fraudulent\"]\n",
    "\n",
    "# Random seed for reproducibility\n",
    "np.random.seed(42)\n",
    "\n",
    "X_train, X_test, y_train, y_test = train_test_split(X, \n",
    "                                                    y, \n",
    "                                                    test_size=0.2)\n",
    "\n",
    "gnb = GaussianNB()\n",
    "gnb.fit(X_train, y_train)"
   ]
  },
  {
   "cell_type": "markdown",
   "id": "93661ddf",
   "metadata": {},
   "source": [
    "<h4><font color=darkslategray> Score training set </font></h4>"
   ]
  },
  {
   "cell_type": "code",
   "execution_count": 66,
   "id": "2ebafaa9",
   "metadata": {},
   "outputs": [
    {
     "data": {
      "text/plain": [
       "0.04893736017897092"
      ]
     },
     "execution_count": 66,
     "metadata": {},
     "output_type": "execute_result"
    }
   ],
   "source": [
    "gnb.score(X_train, y_train)"
   ]
  },
  {
   "cell_type": "markdown",
   "id": "1179caa6",
   "metadata": {},
   "source": [
    "<h4><font color=darkslategray> Score test set </font></h4>"
   ]
  },
  {
   "cell_type": "code",
   "execution_count": 67,
   "id": "2e95fe39",
   "metadata": {},
   "outputs": [
    {
     "data": {
      "text/plain": [
       "0.051733780760626395"
      ]
     },
     "execution_count": 67,
     "metadata": {},
     "output_type": "execute_result"
    }
   ],
   "source": [
    "gnb.score(X_test, y_test)"
   ]
  }
 ],
 "metadata": {
  "kernelspec": {
   "display_name": "Python 3 (ipykernel)",
   "language": "python",
   "name": "python3"
  },
  "language_info": {
   "codemirror_mode": {
    "name": "ipython",
    "version": 3
   },
   "file_extension": ".py",
   "mimetype": "text/x-python",
   "name": "python",
   "nbconvert_exporter": "python",
   "pygments_lexer": "ipython3",
   "version": "3.10.4"
  }
 },
 "nbformat": 4,
 "nbformat_minor": 5
}
